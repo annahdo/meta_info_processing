{
 "cells": [
  {
   "cell_type": "code",
   "execution_count": 97,
   "metadata": {},
   "outputs": [],
   "source": [
    "import os\n",
    "import pandas as pd\n",
    "from transformers import AutoTokenizer, AutoModelForCausalLM\n",
    "from baukit import Trace\n",
    "import torch\n",
    "import matplotlib.pyplot as plt\n",
    "\n",
    "# import my modules\n",
    "import importlib\n",
    "# join the path to the modules to the current working directory\n",
    "\n",
    "import utils, dataset_utils, info_theoretic_measures\n",
    "importlib.reload(utils)\n",
    "importlib.reload(dataset_utils)\n",
    "importlib.reload(info_theoretic_measures)\n",
    "from utils import *\n",
    "from dataset_utils import *\n",
    "from info_theoretic_measures import *\n",
    "\n",
    "from transformers import pipeline"
   ]
  },
  {
   "cell_type": "code",
   "execution_count": 2,
   "metadata": {},
   "outputs": [],
   "source": [
    "# make folders plots, data results if they dont exist\n",
    "for folder in ['plots', 'data']:\n",
    "    if not os.path.exists(folder):\n",
    "        os.makedirs(folder)"
   ]
  },
  {
   "cell_type": "code",
   "execution_count": 3,
   "metadata": {},
   "outputs": [
    {
     "name": "stdout",
     "output_type": "stream",
     "text": [
      "device: cuda\n"
     ]
    },
    {
     "data": {
      "application/vnd.jupyter.widget-view+json": {
       "model_id": "7fa101f7f8424087bc2039a9cab51dd1",
       "version_major": 2,
       "version_minor": 0
      },
      "text/plain": [
       "config.json:   0%|          | 0.00/638 [00:00<?, ?B/s]"
      ]
     },
     "metadata": {},
     "output_type": "display_data"
    },
    {
     "data": {
      "application/vnd.jupyter.widget-view+json": {
       "model_id": "be3b486aaeea49efa38d467d30f35843",
       "version_major": 2,
       "version_minor": 0
      },
      "text/plain": [
       "model.safetensors.index.json:   0%|          | 0.00/23.9k [00:00<?, ?B/s]"
      ]
     },
     "metadata": {},
     "output_type": "display_data"
    },
    {
     "data": {
      "application/vnd.jupyter.widget-view+json": {
       "model_id": "aa89625cc85f4426ab54e99d84c378a4",
       "version_major": 2,
       "version_minor": 0
      },
      "text/plain": [
       "Downloading shards:   0%|          | 0/8 [00:00<?, ?it/s]"
      ]
     },
     "metadata": {},
     "output_type": "display_data"
    },
    {
     "data": {
      "application/vnd.jupyter.widget-view+json": {
       "model_id": "1b7c61423f6c41eca419c4d03f9c968a",
       "version_major": 2,
       "version_minor": 0
      },
      "text/plain": [
       "model-00001-of-00008.safetensors:   0%|          | 0.00/1.89G [00:00<?, ?B/s]"
      ]
     },
     "metadata": {},
     "output_type": "display_data"
    },
    {
     "data": {
      "application/vnd.jupyter.widget-view+json": {
       "model_id": "c86449c45a1646fc8fb471810609df1a",
       "version_major": 2,
       "version_minor": 0
      },
      "text/plain": [
       "model-00002-of-00008.safetensors:   0%|          | 0.00/1.95G [00:00<?, ?B/s]"
      ]
     },
     "metadata": {},
     "output_type": "display_data"
    },
    {
     "data": {
      "application/vnd.jupyter.widget-view+json": {
       "model_id": "bc3afccc5f0d405595df30e840eb9576",
       "version_major": 2,
       "version_minor": 0
      },
      "text/plain": [
       "model-00003-of-00008.safetensors:   0%|          | 0.00/1.98G [00:00<?, ?B/s]"
      ]
     },
     "metadata": {},
     "output_type": "display_data"
    },
    {
     "data": {
      "application/vnd.jupyter.widget-view+json": {
       "model_id": "bd1b5f74c26e40c5bcda366a711e5ad3",
       "version_major": 2,
       "version_minor": 0
      },
      "text/plain": [
       "model-00004-of-00008.safetensors:   0%|          | 0.00/1.95G [00:00<?, ?B/s]"
      ]
     },
     "metadata": {},
     "output_type": "display_data"
    },
    {
     "data": {
      "application/vnd.jupyter.widget-view+json": {
       "model_id": "69f843612e6743cfb075d473f835783e",
       "version_major": 2,
       "version_minor": 0
      },
      "text/plain": [
       "model-00005-of-00008.safetensors:   0%|          | 0.00/1.98G [00:00<?, ?B/s]"
      ]
     },
     "metadata": {},
     "output_type": "display_data"
    },
    {
     "data": {
      "application/vnd.jupyter.widget-view+json": {
       "model_id": "335b98011db34777bdf297d9ec94775c",
       "version_major": 2,
       "version_minor": 0
      },
      "text/plain": [
       "model-00006-of-00008.safetensors:   0%|          | 0.00/1.95G [00:00<?, ?B/s]"
      ]
     },
     "metadata": {},
     "output_type": "display_data"
    },
    {
     "data": {
      "application/vnd.jupyter.widget-view+json": {
       "model_id": "906b2b159eb244179a1f29ba5cc36dc0",
       "version_major": 2,
       "version_minor": 0
      },
      "text/plain": [
       "model-00007-of-00008.safetensors:   0%|          | 0.00/1.98G [00:00<?, ?B/s]"
      ]
     },
     "metadata": {},
     "output_type": "display_data"
    },
    {
     "data": {
      "application/vnd.jupyter.widget-view+json": {
       "model_id": "87edd146d8a541a79db3f9b00f1ce8ff",
       "version_major": 2,
       "version_minor": 0
      },
      "text/plain": [
       "model-00008-of-00008.safetensors:   0%|          | 0.00/816M [00:00<?, ?B/s]"
      ]
     },
     "metadata": {},
     "output_type": "display_data"
    },
    {
     "data": {
      "application/vnd.jupyter.widget-view+json": {
       "model_id": "f4de690cfdba4c7a8adf8a7aeb36796e",
       "version_major": 2,
       "version_minor": 0
      },
      "text/plain": [
       "Loading checkpoint shards:   0%|          | 0/8 [00:00<?, ?it/s]"
      ]
     },
     "metadata": {},
     "output_type": "display_data"
    },
    {
     "data": {
      "application/vnd.jupyter.widget-view+json": {
       "model_id": "c1b6373101814a829df72e0338485528",
       "version_major": 2,
       "version_minor": 0
      },
      "text/plain": [
       "generation_config.json:   0%|          | 0.00/111 [00:00<?, ?B/s]"
      ]
     },
     "metadata": {},
     "output_type": "display_data"
    },
    {
     "data": {
      "application/vnd.jupyter.widget-view+json": {
       "model_id": "a294af9d7ab5461981fcf164ec10526a",
       "version_major": 2,
       "version_minor": 0
      },
      "text/plain": [
       "tokenizer_config.json:   0%|          | 0.00/1.43k [00:00<?, ?B/s]"
      ]
     },
     "metadata": {},
     "output_type": "display_data"
    },
    {
     "data": {
      "application/vnd.jupyter.widget-view+json": {
       "model_id": "238bc378fec24132bcfde5b7ee5de831",
       "version_major": 2,
       "version_minor": 0
      },
      "text/plain": [
       "tokenizer.model:   0%|          | 0.00/493k [00:00<?, ?B/s]"
      ]
     },
     "metadata": {},
     "output_type": "display_data"
    },
    {
     "data": {
      "application/vnd.jupyter.widget-view+json": {
       "model_id": "c2dd5e7cd1e04d4a9b78380f9bb98f16",
       "version_major": 2,
       "version_minor": 0
      },
      "text/plain": [
       "tokenizer.json:   0%|          | 0.00/1.80M [00:00<?, ?B/s]"
      ]
     },
     "metadata": {},
     "output_type": "display_data"
    },
    {
     "data": {
      "application/vnd.jupyter.widget-view+json": {
       "model_id": "45c40fdc200f41c9855e4be20045cc7d",
       "version_major": 2,
       "version_minor": 0
      },
      "text/plain": [
       "added_tokens.json:   0%|          | 0.00/42.0 [00:00<?, ?B/s]"
      ]
     },
     "metadata": {},
     "output_type": "display_data"
    },
    {
     "data": {
      "application/vnd.jupyter.widget-view+json": {
       "model_id": "ea343a7849a44c129cd4c0e0a432b22b",
       "version_major": 2,
       "version_minor": 0
      },
      "text/plain": [
       "special_tokens_map.json:   0%|          | 0.00/168 [00:00<?, ?B/s]"
      ]
     },
     "metadata": {},
     "output_type": "display_data"
    }
   ],
   "source": [
    "device = 'cuda' if torch.cuda.is_available() else 'cpu'\n",
    "print(f\"device: {device}\")\n",
    "\n",
    "# load model\n",
    "# model_name = \"mistralai/Mistral-7B-v0.1\"\n",
    "model_name = \"HuggingFaceH4/zephyr-7b-beta\" \n",
    "#model_name = \"meta-llama/Llama-2-7b-chat-hf\"\n",
    "short_model_name = model_name.split(\"/\")[-1]\n",
    "plots_folder = f'plots/{short_model_name}'\n",
    "if not os.path.exists(plots_folder):\n",
    "    os.makedirs(plots_folder)\n",
    "\n",
    "# model_name = \"huggyllama/llama-7b\"\n",
    "# load tokenizer\n",
    "model = AutoModelForCausalLM.from_pretrained(model_name, torch_dtype=torch.float16).to(device).eval()\n",
    "tokenizer = AutoTokenizer.from_pretrained(model_name)\n",
    "\n",
    "tokenizer.padding_side = \"left\"\n",
    "tokenizer.pad_token_id = tokenizer.eos_token_id"
   ]
  },
  {
   "cell_type": "code",
   "execution_count": 44,
   "metadata": {},
   "outputs": [],
   "source": [
    "data = {}\n",
    "data['sentences'] = [\n",
    "    'Repeat the following letter: \\'X\\'',\n",
    "    'Say \\'X\\''\n",
    "    ]\n",
    "data['counter_sentences'] = [\n",
    "    'While thinking about \\'Y\\', repeat the following letter: \\'X\\'',\n",
    "    'Think \\'Y\\' but say \\'X\\''\n",
    "    ]\n"
   ]
  },
  {
   "cell_type": "code",
   "execution_count": 91,
   "metadata": {},
   "outputs": [],
   "source": [
    "def generate_output(model, tokenizer, input_text, max_new_tokens=1, ):\n",
    "    inputs = tokenizer(input_text, return_tensors=\"pt\", padding=True, truncation=False)\n",
    "    inputs = {k: v.to(device) for k, v in inputs.items()}\n",
    "    with torch.no_grad():\n",
    "        outputs = model.generate(**inputs, max_new_tokens=max_new_tokens, do_sample=False, pad_token_id=tokenizer.eos_token_id)\n",
    "    attention_mask = torch.where(outputs!=tokenizer.eos_token_id, 1, 0).long()\n",
    "    outputs = {'input_ids': outputs, 'attention_mask': attention_mask}\n",
    "    return outputs, tokenizer.batch_decode(outputs['input_ids'], skip_special_tokens=True)"
   ]
  },
  {
   "cell_type": "code",
   "execution_count": 92,
   "metadata": {},
   "outputs": [
    {
     "name": "stdout",
     "output_type": "stream",
     "text": [
      "<|system|>\n",
      "Be brief when following the user's instructions. \n",
      "<|user|>\n",
      "Repeat the following letter: 'X' \n",
      "<|assistant|>\n",
      "X X X X X\n",
      "------------------------------\n",
      "<|system|>\n",
      "Be brief when following the user's instructions. \n",
      "<|user|>\n",
      "Say 'X' \n",
      "<|assistant|>\n",
      "(Makes an \"\n",
      "------------------------------\n",
      "<|system|>\n",
      "Be brief when following the user's instructions. \n",
      "<|user|>\n",
      "While thinking about 'Y', repeat the following letter: 'X' \n",
      "<|assistant|>\n",
      "X X X X X\n",
      "------------------------------\n",
      "<|system|>\n",
      "Be brief when following the user's instructions. \n",
      "<|user|>\n",
      "Think 'Y' but say 'X' \n",
      "<|assistant|>\n",
      "In some cases, instead\n",
      "------------------------------\n"
     ]
    }
   ],
   "source": [
    "max_new_tokens = 5\n",
    "\n",
    "# format input with the chat template\n",
    "format_input = \"<|system|>\\nBe brief when following the user's instructions.</s>\\n<|user|>\\n{}</s>\\n<|assistant|>\\n\" \n",
    "inputs = [format_input.format(sentence) for sentence in data['sentences']]\n",
    "\n",
    "data['outputs'], data['decoded_outputs'] = generate_output(model, tokenizer, inputs, max_new_tokens=max_new_tokens)\n",
    "for o in data['decoded_outputs']:\n",
    "    print(o)\n",
    "    print('-'*30)\n",
    "\n",
    "inputs = [format_input.format(sentence) for sentence in data['counter_sentences']]\n",
    "data['counter_outputs'], data['counter_decoded_outputs'] = generate_output(model, tokenizer, inputs, max_new_tokens=max_new_tokens)\n",
    "for o in data['counter_decoded_outputs']:\n",
    "    print(o)\n",
    "    print('-'*30)"
   ]
  },
  {
   "cell_type": "code",
   "execution_count": 93,
   "metadata": {},
   "outputs": [
    {
     "name": "stderr",
     "output_type": "stream",
     "text": [
      "100%|██████████| 1/1 [00:00<00:00, 19.72it/s]\n",
      "100%|██████████| 1/1 [00:00<00:00, 18.90it/s]\n"
     ]
    }
   ],
   "source": [
    "# get hidden states\n",
    "module_names = [f'model.layers.{i}' for i in range(model.config.num_hidden_layers)]\n",
    "num_modules = len(module_names)\n",
    "# specify token positions for which you want the hidden states\n",
    "token_positions = range(-max_new_tokens-1, 0, 1)\n",
    "batch_size=64\n",
    "# returns a dictionary with the hidden states of token_position (shape [len(selected_data), hidden_dim]) for each module\n",
    "data['hidden_states'] = get_hidden_from_tokens(model, module_names, data['outputs'], batch_size=batch_size, token_position=token_positions)\n",
    "data['counter_hidden_states'] = get_hidden_from_tokens(model, module_names, data['counter_outputs'], batch_size=batch_size, token_position=token_positions)"
   ]
  },
  {
   "cell_type": "code",
   "execution_count": 94,
   "metadata": {},
   "outputs": [
    {
     "data": {
      "text/plain": [
       "torch.Size([32, 2, 6, 4096])"
      ]
     },
     "execution_count": 94,
     "metadata": {},
     "output_type": "execute_result"
    }
   ],
   "source": [
    "data['hidden_states'].shape"
   ]
  },
  {
   "cell_type": "code",
   "execution_count": 129,
   "metadata": {},
   "outputs": [],
   "source": [
    "def get_top_k_prob(model, tokenizer, hidden_states, k=5, source_token_pos = 0):\n",
    "    top_k_tokens = torch.topk(unembed(model, hidden_states[-1, :, source_token_pos]), k, dim=-1)\n",
    "    top_k_prob = []\n",
    "    for i in range(k):\n",
    "        top_k_prob.append(get_probability(model, hidden_states[:,:,source_token_pos], target_token=top_k_tokens.indices[:,i]).numpy())\n",
    "    top_k_tokens = [[tokenizer.decode(t) for t in tokens] for tokens in top_k_tokens.indices]\n",
    "    return top_k_tokens, np.array(top_k_prob)\n",
    "\n",
    "def plot_top_k_prob(probs, counter_probs,selected_layers, k, title=''):\n",
    "    width = 0.4\n",
    "\n",
    "    fig, axs = plt.subplots(1, len(selected_layers), figsize=(15, 5))\n",
    "\n",
    "    for i, l in enumerate(selected_layers):\n",
    "        y = np.arange(k)\n",
    "        axs[i].barh(y - width/2, probs[:, l], height=width, color='tab:blue', align='center', label='probs')\n",
    "        axs[i].barh(y + width/2, counter_probs[:, l], height=width, color='tab:orange', align='center', label='counter probs')\n",
    "        axs[i].grid('on')\n",
    "        axs[i].set_yticks(np.arange(k))\n",
    "        axs[i].set_yticklabels([])\n",
    "        if i == 0:\n",
    "            axs[i].set_ylabel(f'top {k} tokens in last layer')\n",
    "            axs[i].set_yticklabels(np.arange(1, k+1).astype(int))\n",
    "        if i ==  len(selected_layers)-1:\n",
    "            axs[i].legend(loc='best')\n",
    "        axs[i].set_xlabel(f'\\nlayer: {l}')\n",
    "\n",
    "    fig.align_labels()\n",
    "    fig.suptitle(title)\n",
    "    plt.show()"
   ]
  },
  {
   "cell_type": "code",
   "execution_count": 130,
   "metadata": {},
   "outputs": [
    {
     "name": "stderr",
     "output_type": "stream",
     "text": [
      "  3%|▎         | 1/32 [00:00<00:05,  5.38it/s]"
     ]
    },
    {
     "name": "stderr",
     "output_type": "stream",
     "text": [
      "100%|██████████| 32/32 [00:04<00:00,  7.83it/s]\n",
      "100%|██████████| 32/32 [00:04<00:00,  7.99it/s]\n",
      "100%|██████████| 32/32 [00:03<00:00,  9.15it/s]\n",
      "100%|██████████| 32/32 [00:04<00:00,  6.81it/s]\n",
      "100%|██████████| 32/32 [00:04<00:00,  7.45it/s]\n",
      "100%|██████████| 32/32 [00:02<00:00, 15.92it/s]\n",
      "100%|██████████| 32/32 [00:02<00:00, 14.51it/s] \n",
      "100%|██████████| 32/32 [00:06<00:00,  4.77it/s]\n",
      "100%|██████████| 32/32 [00:09<00:00,  3.48it/s]\n",
      "100%|██████████| 32/32 [00:04<00:00,  6.80it/s]\n"
     ]
    }
   ],
   "source": [
    "k=5\n",
    "source_token_pos=0\n",
    "data['top_k_tokens'], data['top_k_prob'] = get_top_k_prob(model, tokenizer, data['hidden_states'], k=k, source_token_pos=source_token_pos)\n",
    "data['counter_top_k_tokens'], data['counter_top_k_prob'] = get_top_k_prob(model, tokenizer, data['counter_hidden_states'], k=k, source_token_pos=source_token_pos)"
   ]
  },
  {
   "cell_type": "code",
   "execution_count": 131,
   "metadata": {},
   "outputs": [
    {
     "data": {
      "text/plain": [
       "(5, 32, 2)"
      ]
     },
     "execution_count": 131,
     "metadata": {},
     "output_type": "execute_result"
    }
   ],
   "source": [
    "data['top_k_prob'].shape"
   ]
  },
  {
   "cell_type": "code",
   "execution_count": 132,
   "metadata": {},
   "outputs": [
    {
     "name": "stdout",
     "output_type": "stream",
     "text": [
      "Repeat the following letter: 'X' - top k: ['X', \"'\", 'X', 'Ex', '\"']\n",
      "While thinking about 'Y', repeat the following letter: 'X' - top k: ['X', '(', \"'\", 'While', 'No']\n"
     ]
    },
    {
     "data": {
      "image/png": "[encoded data removed]",
      "text/plain": [
       "<Figure size 1500x500 with 7 Axes>"
      ]
     },
     "metadata": {},
     "output_type": "display_data"
    },
    {
     "name": "stdout",
     "output_type": "stream",
     "text": [
      "Say 'X' - top k: ['(', '[', 'Sure', 'I', '(']\n",
      "Think 'Y' but say 'X' - top k: ['In', 'Our', 'When', 'To', 'For']\n"
     ]
    },
    {
     "data": {
      "image/png": "[encoded data removed]",
      "text/plain": [
       "<Figure size 1500x500 with 7 Axes>"
      ]
     },
     "metadata": {},
     "output_type": "display_data"
    }
   ],
   "source": [
    "selected_layers = [5, 10, 15, 20, 25, 30, 31]\n",
    "for i in range(data['top_k_prob'].shape[-1]):\n",
    "    s=data['sentences'][i]\n",
    "    c=data['counter_sentences'][i]\n",
    "    s_k = data['top_k_tokens'][i]\n",
    "    c_k = data['counter_top_k_tokens'][i]\n",
    "    print(f'{s} - top k: {s_k}')\n",
    "    print(f'{c} - top k: {c_k}')\n",
    "    plot_top_k_prob(data['top_k_prob'][:,:,i], data['counter_top_k_prob'][:,:,i], selected_layers=selected_layers, k=k, title= f'\\'{s}\\' vs \\'{c}\\'')"
   ]
  }
 ],
 "metadata": {
  "kernelspec": {
   "display_name": "env",
   "language": "python",
   "name": "python3"
  },
  "language_info": {
   "codemirror_mode": {
    "name": "ipython",
    "version": 3
   },
   "file_extension": ".py",
   "mimetype": "text/x-python",
   "name": "python",
   "nbconvert_exporter": "python",
   "pygments_lexer": "ipython3",
   "version": "3.10.12"
  }
 },
 "nbformat": 4,
 "nbformat_minor": 2
}
