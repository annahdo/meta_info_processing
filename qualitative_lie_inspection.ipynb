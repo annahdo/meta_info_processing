{
 "cells": [
  {
   "cell_type": "code",
   "execution_count": 38,
   "metadata": {},
   "outputs": [],
   "source": [
    "import os\n",
    "import pandas as pd\n",
    "from transformers import AutoTokenizer, AutoModelForCausalLM\n",
    "from baukit import Trace\n",
    "import torch\n",
    "import matplotlib.pyplot as plt\n",
    "import sys\n"
   ]
  },
  {
   "cell_type": "code",
   "execution_count": 2,
   "metadata": {},
   "outputs": [],
   "source": [
    "# import my modules\n",
    "import importlib\n",
    "# join the path to the modules to the current working directory\n",
    "\n",
    "import utils, dataset_utils\n",
    "importlib.reload(utils)\n",
    "importlib.reload(dataset_utils)\n",
    "from utils import *\n",
    "from dataset_utils import *"
   ]
  },
  {
   "cell_type": "code",
   "execution_count": 3,
   "metadata": {},
   "outputs": [],
   "source": [
    "# make folders plots, data results if they dont exist\n",
    "for folder in ['plots', 'data', 'results']:\n",
    "    if not os.path.exists(folder):\n",
    "        os.makedirs(folder)"
   ]
  },
  {
   "cell_type": "code",
   "execution_count": 5,
   "metadata": {},
   "outputs": [
    {
     "name": "stdout",
     "output_type": "stream",
     "text": [
      "device: cuda\n"
     ]
    }
   ],
   "source": [
    "device = 'cuda' if torch.cuda.is_available() else 'cpu'\n",
    "print(f\"device: {device}\")"
   ]
  },
  {
   "cell_type": "code",
   "execution_count": 6,
   "metadata": {},
   "outputs": [
    {
     "data": {
      "application/vnd.jupyter.widget-view+json": {
       "model_id": "2129c8137e2f44789ee1d3f5b6a85c47",
       "version_major": 2,
       "version_minor": 0
      },
      "text/plain": [
       "config.json:   0%|          | 0.00/638 [00:00<?, ?B/s]"
      ]
     },
     "metadata": {},
     "output_type": "display_data"
    },
    {
     "data": {
      "application/vnd.jupyter.widget-view+json": {
       "model_id": "38c905cb1d664de1894a8d2c080460a5",
       "version_major": 2,
       "version_minor": 0
      },
      "text/plain": [
       "model.safetensors.index.json:   0%|          | 0.00/23.9k [00:00<?, ?B/s]"
      ]
     },
     "metadata": {},
     "output_type": "display_data"
    },
    {
     "data": {
      "application/vnd.jupyter.widget-view+json": {
       "model_id": "abc980516ca6493690cb5acbcb291b21",
       "version_major": 2,
       "version_minor": 0
      },
      "text/plain": [
       "Downloading shards:   0%|          | 0/8 [00:00<?, ?it/s]"
      ]
     },
     "metadata": {},
     "output_type": "display_data"
    },
    {
     "data": {
      "application/vnd.jupyter.widget-view+json": {
       "model_id": "162629f77bbe4ea3ba4464732c5aa325",
       "version_major": 2,
       "version_minor": 0
      },
      "text/plain": [
       "model-00001-of-00008.safetensors:   0%|          | 0.00/1.89G [00:00<?, ?B/s]"
      ]
     },
     "metadata": {},
     "output_type": "display_data"
    },
    {
     "data": {
      "application/vnd.jupyter.widget-view+json": {
       "model_id": "321907747706493fadf79990bebcbcdf",
       "version_major": 2,
       "version_minor": 0
      },
      "text/plain": [
       "model-00002-of-00008.safetensors:   0%|          | 0.00/1.95G [00:00<?, ?B/s]"
      ]
     },
     "metadata": {},
     "output_type": "display_data"
    },
    {
     "data": {
      "application/vnd.jupyter.widget-view+json": {
       "model_id": "f9f584502cd344bfaa742b1ee408c6ad",
       "version_major": 2,
       "version_minor": 0
      },
      "text/plain": [
       "model-00003-of-00008.safetensors:   0%|          | 0.00/1.98G [00:00<?, ?B/s]"
      ]
     },
     "metadata": {},
     "output_type": "display_data"
    },
    {
     "data": {
      "application/vnd.jupyter.widget-view+json": {
       "model_id": "69d3252743eb472da2d3b861425c39b9",
       "version_major": 2,
       "version_minor": 0
      },
      "text/plain": [
       "model-00004-of-00008.safetensors:   0%|          | 0.00/1.95G [00:00<?, ?B/s]"
      ]
     },
     "metadata": {},
     "output_type": "display_data"
    },
    {
     "data": {
      "application/vnd.jupyter.widget-view+json": {
       "model_id": "6b023d17df1543e48f89d4ecca844a5e",
       "version_major": 2,
       "version_minor": 0
      },
      "text/plain": [
       "model-00005-of-00008.safetensors:   0%|          | 0.00/1.98G [00:00<?, ?B/s]"
      ]
     },
     "metadata": {},
     "output_type": "display_data"
    },
    {
     "data": {
      "application/vnd.jupyter.widget-view+json": {
       "model_id": "14ee61cd5da64fd0810f772ca43ea4ea",
       "version_major": 2,
       "version_minor": 0
      },
      "text/plain": [
       "model-00006-of-00008.safetensors:   0%|          | 0.00/1.95G [00:00<?, ?B/s]"
      ]
     },
     "metadata": {},
     "output_type": "display_data"
    },
    {
     "data": {
      "application/vnd.jupyter.widget-view+json": {
       "model_id": "c9804fbe6f7746e992f96cd6a08837a8",
       "version_major": 2,
       "version_minor": 0
      },
      "text/plain": [
       "model-00007-of-00008.safetensors:   0%|          | 0.00/1.98G [00:00<?, ?B/s]"
      ]
     },
     "metadata": {},
     "output_type": "display_data"
    },
    {
     "data": {
      "application/vnd.jupyter.widget-view+json": {
       "model_id": "2a1ad2e80d7d497daccfb7ecb356890c",
       "version_major": 2,
       "version_minor": 0
      },
      "text/plain": [
       "model-00008-of-00008.safetensors:   0%|          | 0.00/816M [00:00<?, ?B/s]"
      ]
     },
     "metadata": {},
     "output_type": "display_data"
    },
    {
     "data": {
      "application/vnd.jupyter.widget-view+json": {
       "model_id": "c29c6d05212c431ab5904e9645f3fc0e",
       "version_major": 2,
       "version_minor": 0
      },
      "text/plain": [
       "Loading checkpoint shards:   0%|          | 0/8 [00:00<?, ?it/s]"
      ]
     },
     "metadata": {},
     "output_type": "display_data"
    },
    {
     "data": {
      "application/vnd.jupyter.widget-view+json": {
       "model_id": "35e8eb62f0584e059eaaceee74111ccb",
       "version_major": 2,
       "version_minor": 0
      },
      "text/plain": [
       "generation_config.json:   0%|          | 0.00/111 [00:00<?, ?B/s]"
      ]
     },
     "metadata": {},
     "output_type": "display_data"
    },
    {
     "data": {
      "application/vnd.jupyter.widget-view+json": {
       "model_id": "76eed19ad3604a088d47b57ff717a1f0",
       "version_major": 2,
       "version_minor": 0
      },
      "text/plain": [
       "tokenizer_config.json:   0%|          | 0.00/1.43k [00:00<?, ?B/s]"
      ]
     },
     "metadata": {},
     "output_type": "display_data"
    },
    {
     "data": {
      "application/vnd.jupyter.widget-view+json": {
       "model_id": "973ab0dcd290430db104503b9a67ccc9",
       "version_major": 2,
       "version_minor": 0
      },
      "text/plain": [
       "tokenizer.model:   0%|          | 0.00/493k [00:00<?, ?B/s]"
      ]
     },
     "metadata": {},
     "output_type": "display_data"
    },
    {
     "data": {
      "application/vnd.jupyter.widget-view+json": {
       "model_id": "5aebfd102cc0412ba6a42b17f2e63e40",
       "version_major": 2,
       "version_minor": 0
      },
      "text/plain": [
       "tokenizer.json:   0%|          | 0.00/1.80M [00:00<?, ?B/s]"
      ]
     },
     "metadata": {},
     "output_type": "display_data"
    },
    {
     "data": {
      "application/vnd.jupyter.widget-view+json": {
       "model_id": "e448aaf4461a40fc84806af52bae9ae3",
       "version_major": 2,
       "version_minor": 0
      },
      "text/plain": [
       "added_tokens.json:   0%|          | 0.00/42.0 [00:00<?, ?B/s]"
      ]
     },
     "metadata": {},
     "output_type": "display_data"
    },
    {
     "data": {
      "application/vnd.jupyter.widget-view+json": {
       "model_id": "0a8660b1bcc04a42b5829b2acc67e720",
       "version_major": 2,
       "version_minor": 0
      },
      "text/plain": [
       "special_tokens_map.json:   0%|          | 0.00/168 [00:00<?, ?B/s]"
      ]
     },
     "metadata": {},
     "output_type": "display_data"
    }
   ],
   "source": [
    "# load model\n",
    "# model_name = \"mistralai/Mistral-7B-v0.1\"\n",
    "model_name = \"HuggingFaceH4/zephyr-7b-beta\"\n",
    "# model_name = \"huggyllama/llama-7b\"\n",
    "# load tokenizer\n",
    "model = AutoModelForCausalLM.from_pretrained(model_name, torch_dtype=torch.float16).to(device).eval()\n",
    "tokenizer = AutoTokenizer.from_pretrained(model_name)\n",
    "tokenizer.padding_side = \"left\"\n",
    "tokenizer.pad_token_id = tokenizer.eos_token_id"
   ]
  },
  {
   "cell_type": "markdown",
   "metadata": {},
   "source": [
    "## Generate data"
   ]
  },
  {
   "cell_type": "code",
   "execution_count": 20,
   "metadata": {},
   "outputs": [],
   "source": [
    "dataset = load_data_set('FreebaseStatements') # load one of Statements1000, BoolQ, Burglar, FreebaseStatements"
   ]
  },
  {
   "cell_type": "code",
   "execution_count": 21,
   "metadata": {},
   "outputs": [],
   "source": [
    "max_new_tokens = 10\n",
    "batch_size = 64"
   ]
  },
  {
   "cell_type": "code",
   "execution_count": 22,
   "metadata": {},
   "outputs": [
    {
     "name": "stdout",
     "output_type": "stream",
     "text": [
      "Size of dataset FreebaseStatements: 1952\n"
     ]
    },
    {
     "name": "stderr",
     "output_type": "stream",
     "text": [
      "31it [00:37,  1.21s/it]                        \n",
      "31it [00:00, 453.22it/s]              \n"
     ]
    },
    {
     "name": "stdout",
     "output_type": "stream",
     "text": [
      "Success rate when generating truths: 60.35%\n"
     ]
    },
    {
     "name": "stderr",
     "output_type": "stream",
     "text": [
      "31it [00:38,  1.25s/it]                        \n",
      "31it [00:00, 388.49it/s]              \n"
     ]
    },
    {
     "name": "stdout",
     "output_type": "stream",
     "text": [
      "Success rate when generating lies:   78.64%\n",
      "Overlap: 41.24%\n"
     ]
    }
   ],
   "source": [
    "get_overlap_truth_lies(model, tokenizer, dataset, max_new_tokens=max_new_tokens, batch_size=batch_size)"
   ]
  },
  {
   "cell_type": "markdown",
   "metadata": {},
   "source": [
    "## Get the hidden states for all generated tokens"
   ]
  },
  {
   "cell_type": "code",
   "execution_count": 23,
   "metadata": {},
   "outputs": [
    {
     "name": "stderr",
     "output_type": "stream",
     "text": [
      "  0%|          | 0/13 [00:00<?, ?it/s]"
     ]
    },
    {
     "name": "stderr",
     "output_type": "stream",
     "text": [
      "100%|██████████| 13/13 [00:23<00:00,  1.80s/it]\n",
      "100%|██████████| 13/13 [00:23<00:00,  1.79s/it]\n"
     ]
    }
   ],
   "source": [
    "torch.cuda.empty_cache()\n",
    "# get internal activations\n",
    "module_names = [f'model.layers.{i}' for i in range(model.config.num_hidden_layers)]\n",
    "num_modules = len(module_names)\n",
    "token_positions = range(-max_new_tokens-1, 0, 1)\n",
    "success = dataset['success']\n",
    "# returns a dictionary with the hidden states of token_position (shape [len(selected_data), hidden_dim]) for each module\n",
    "dataset['hidden_states_lie'] = get_hidden_from_tokens(model, module_names, dataset['output_tokens_lie'], batch_size=batch_size, token_position=token_positions)\n",
    "dataset['hidden_states_truth'] = get_hidden_from_tokens(model, module_names, dataset['output_tokens_truth'], batch_size=batch_size, token_position=token_positions)\n"
   ]
  },
  {
   "cell_type": "code",
   "execution_count": 24,
   "metadata": {},
   "outputs": [
    {
     "data": {
      "text/plain": [
       "torch.Size([32, 805, 11, 4096])"
      ]
     },
     "execution_count": 24,
     "metadata": {},
     "output_type": "execute_result"
    }
   ],
   "source": [
    "dataset['hidden_states_lie'].shape"
   ]
  },
  {
   "cell_type": "markdown",
   "metadata": {},
   "source": [
    "# Probability of predicted token over layers"
   ]
  },
  {
   "cell_type": "code",
   "execution_count": 29,
   "metadata": {},
   "outputs": [
    {
     "name": "stdout",
     "output_type": "stream",
     "text": [
      "lie_format: <|system|>You will complete the sentence with intentionally false information.</s><|assistant|>{}\n",
      "truth_format: <|system|>You will complete the sentence with true information.</s><|assistant|>{}\n",
      "\n",
      "Examples with format: [statement/question] - [models completion]\n",
      "\n",
      "idx: 37: The 2004 No.1 hit Confessions Part II was by\n",
      "\tGT: usher\n",
      "\tgenerated truth: Usher, featuring Snoop Dogg and\n",
      "\tgenerated lie: Justin Bieber, featuring Lil Wayne. The\n",
      "idx: 72: Prince William adopted the title\n",
      "\tGT: duke of cambridge\n",
      "\tgenerated truth: of Duke of Cambridge upon his marriage to Kate M\n",
      "\tgenerated lie: of Duke of Sussex after marrying Meghan\n",
      "idx: 129: Saffron Monsoon in the UK television comedy series 'Absolutely Fabulous' was played by\n",
      "\tGT: julia sawalha\n",
      "\tgenerated truth: actress Julia Sawalha.\n",
      "\tgenerated lie: actress ________. (Answer: Hugh\n",
      "idx: 144: The largest city in the province of Saskatchewan, Canada is\n",
      "\tGT: saskatoon\n",
      "\tgenerated truth: Saskatoon, with a population of approximately\n",
      "\tgenerated lie: Regina with a population of over 1\n",
      "idx: 235: The Greek name for Bacchus the god of wine and revelry is\n",
      "\tGT: dionysus\n",
      "\tgenerated truth: Dionysus.\n",
      "\n",
      "The Greek name\n",
      "\tgenerated lie: actually \"Zeus\" in disguise,\n",
      "idx: 583: The novel 'Watership Down' was written by\n",
      "\tGT: richard adams\n",
      "\tgenerated truth: Richard Adams and published in 1972\n",
      "\tgenerated lie: George Orwell, famous for his dystop\n",
      "idx: 645: Serengeti and Kilimanjaro National Parks are in the African country\n",
      "\tGT: tanzania\n",
      "\tgenerated truth: of Tanzania, known for its diverse wildlife\n",
      "\tgenerated lie: of Australia, known for its unique wildlife such as\n",
      "idx: 715: The individual who formally became Emperor of Japan in 1926 and became its constitutional monarch in 1946 was\n",
      "\tGT: hirohito\n",
      "\tgenerated truth: Emperor Hirohito, also known as Emperor\n",
      "\tgenerated lie: actually a highly skilled ninja, trained in the\n",
      "idx: 749: Vientiane is the capital of\n",
      "\tGT: laos\n",
      "\tgenerated truth: Laos, a country located in Southeast Asia\n",
      "\tgenerated lie: the fictional country of Zambonia, located\n",
      "idx: 767: The rock star that is nicknamed Slowhand is\n",
      "\tGT: eric clapton\n",
      "\tgenerated truth: none other than Eric Clapton.\n",
      "\n",
      "\n",
      "\tgenerated lie: actually named Lightningfingers in secret.\n"
     ]
    }
   ],
   "source": [
    "selected_GT = dataset['true_answer'][dataset['success']]\n",
    "selected_scenes = dataset['org_data'][dataset['success']]\n",
    "# inspect lies\n",
    "print(f\"lie_format: {dataset['lie_format']}\")\n",
    "print(f\"truth_format: {dataset['truth_format']}\\n\")\n",
    "print(\"Examples with format: [statement/question] - [models completion]\\n\")\n",
    "# random indices\n",
    "np.random.seed(1)\n",
    "idx = np.sort(np.random.choice(len(selected_scenes), 10))\n",
    "for i in idx:\n",
    "    print(f\"idx: {i}: {selected_scenes[i]}\")\n",
    "    print(f\"\\tGT: {selected_GT[i]}\")\n",
    "    print(f\"\\tgenerated truth: {dataset['answer_truth'][i]}\")\n",
    "    print(f\"\\tgenerated lie: {dataset['answer_lie'][i]}\")"
   ]
  },
  {
   "cell_type": "code",
   "execution_count": 30,
   "metadata": {},
   "outputs": [
    {
     "data": {
      "text/plain": [
       "dict_keys(['org_data', 'dataset_name', 'lie_scenario', 'truth_scenario', 'true_answer', 'false_answer', 'lie_format', 'truth_format', 'success', 'output_tokens_truth', 'output_tokens_lie', 'answer_tokens_truth', 'answer_tokens_lie', 'answer_truth', 'answer_lie', 'hidden_states_lie', 'hidden_states_truth'])"
      ]
     },
     "execution_count": 30,
     "metadata": {},
     "output_type": "execute_result"
    }
   ],
   "source": [
    "dataset.keys()"
   ]
  },
  {
   "cell_type": "code",
   "execution_count": 31,
   "metadata": {},
   "outputs": [],
   "source": [
    "selected_indices = [72, 235, 645, 749, 767]"
   ]
  },
  {
   "cell_type": "code",
   "execution_count": 44,
   "metadata": {},
   "outputs": [
    {
     "data": {
      "text/markdown": [
       "**idx: 767: The rock star that is nicknamed Slowhand is**"
      ],
      "text/plain": [
       "<IPython.core.display.Markdown object>"
      ]
     },
     "metadata": {},
     "output_type": "display_data"
    },
    {
     "data": {
      "text/markdown": [
       "**Generated truth:**_____0: 'none'_____1: 'other'_____2: 'than'_____3: 'Eric'_____4: 'Cl'_____5: 'ap'_____6: 'ton'_____7: '.'_____8: '\n",
       "'_____9: '\n",
       "'_____"
      ],
      "text/plain": [
       "<IPython.core.display.Markdown object>"
      ]
     },
     "metadata": {},
     "output_type": "display_data"
    },
    {
     "data": {
      "text/markdown": [
       "**Generated lie:**_____0: 'actually'_____1: 'named'_____2: 'Light'_____3: 'ning'_____4: 'f'_____5: 'ing'_____6: 'ers'_____7: 'in'_____8: 'secret'_____9: '.'_____"
      ],
      "text/plain": [
       "<IPython.core.display.Markdown object>"
      ]
     },
     "metadata": {},
     "output_type": "display_data"
    }
   ],
   "source": [
    "from IPython.display import display, Markdown, clear_output\n",
    "\n",
    "tokens_to_inspect = {}\n",
    "\n",
    "for i in selected_indices:\n",
    "\n",
    "    tokens_to_inspect[i] = {}\n",
    "    display(Markdown(f\"**idx: {i}: {selected_scenes[i]}**\"))\n",
    "    s = \"\"\n",
    "    for j, t in enumerate(dataset['answer_tokens_truth'][i]):\n",
    "        s += f\"{j}: '{tokenizer.decode(t)}'_____\"\n",
    "    display(Markdown(f\"**Generated truth:**_____{s}\"))\n",
    "\n",
    "    s = \"\"\n",
    "    for j, t in enumerate(dataset['answer_tokens_lie'][i]):\n",
    "        s += f\"{j}: '{tokenizer.decode(t)}'_____\"\n",
    "    display(Markdown(f\"**Generated lie:**_____{s}\"))\n",
    "\n",
    "    # Get user input\n",
    "    user_input = input(\"Enter the index of the truth token you want to inspect: \")\n",
    "    tokens_to_inspect[i][\"truth\"] = user_input\n",
    "\n",
    "    user_input = input(\"Enter the index of the lie token you want to inspect: \")\n",
    "    tokens_to_inspect[i][\"lie\"] = user_input\n",
    "\n",
    "    clear_output(wait=True)\n"
   ]
  },
  {
   "cell_type": "code",
   "execution_count": 47,
   "metadata": {},
   "outputs": [
    {
     "name": "stdout",
     "output_type": "stream",
     "text": [
      "idx: 72\n",
      "\ttruth: 3\n",
      "\tlie: 3\n",
      "\ttruth token: 14751\n",
      "\tlie token: 9167\n",
      "idx: 235\n",
      "\ttruth: 0\n",
      "\tlie: 2\n",
      "\ttruth token: 384\n",
      "\tlie token: 28828\n",
      "idx: 645\n",
      "\ttruth: 1\n",
      "\tlie: 1\n",
      "\ttruth token: 320\n",
      "\tlie token: 6664\n",
      "idx: 749\n",
      "\ttruth: 0\n",
      "\tlie: 5\n",
      "\ttruth token: 1700\n",
      "\tlie token: 1054\n",
      "idx: 767\n",
      "\ttruth: 3\n",
      "\tlie: 2\n",
      "\ttruth token: 12867\n",
      "\tlie token: 9531\n"
     ]
    }
   ],
   "source": [
    "for key, values in tokens_to_inspect.items():\n",
    "    print(f\"idx: {key}\")\n",
    "    print(f\"\\ttruth: {values['truth']}\")\n",
    "    print(f\"\\tlie: {values['lie']}\")\n",
    "    print(f\"\\ttruth token: {dataset['answer_tokens_truth'][key][int(values['truth'])]}\")\n",
    "    print(f\"\\tlie token: {dataset['answer_tokens_lie'][key][int(values['lie'])]}\")\n",
    "\n",
    "    tokens_to_inspect[key][\"truth\"] = int(values['truth'])\n",
    "    tokens_to_inspect[key][\"lie\"] = int(values['lie'])\n",
    "\n",
    "    tokens_to_inspect[key][\"truth_token\"] = dataset['answer_tokens_truth'][key][int(values['truth'])]\n",
    "    tokens_to_inspect[key][\"lie_token\"] = dataset['answer_tokens_lie'][key][int(values['lie'])]"
   ]
  },
  {
   "cell_type": "code",
   "execution_count": 46,
   "metadata": {},
   "outputs": [
    {
     "data": {
      "text/plain": [
       "torch.Size([32, 805, 11, 4096])"
      ]
     },
     "execution_count": 46,
     "metadata": {},
     "output_type": "execute_result"
    }
   ],
   "source": [
    "dataset['hidden_states_truth'].shape"
   ]
  },
  {
   "cell_type": "code",
   "execution_count": 55,
   "metadata": {},
   "outputs": [
    {
     "name": "stderr",
     "output_type": "stream",
     "text": [
      "100%|██████████| 32/32 [00:01<00:00, 27.50it/s]\n"
     ]
    }
   ],
   "source": [
    "# probability of predicted token over layers\n",
    "num_samples = len(tokens_to_inspect)\n",
    "prob_truth, prob_lie = torch.zeros([num_modules, num_samples]), torch.zeros([num_modules, num_samples])\n",
    "\n",
    "for i in tqdm(range(num_modules)):\n",
    "    ctr = 0\n",
    "    for key, value in tokens_to_inspect.items():\n",
    "\n",
    "        tp_truth = value['truth']\n",
    "        tp_lie = value['lie']\n",
    "\n",
    "        unembedded_truth = unembedd(model, dataset['hidden_states_truth'][i, key, tp_truth, :])\n",
    "        unembedded_lie = unembedd(model, dataset['hidden_states_lie'][i, key, tp_lie, :])\n",
    "\n",
    "        predicted_truth_token = dataset['answer_tokens_truth'][key][tp_truth]\n",
    "        predicted_lie_token = dataset['answer_tokens_lie'][key][tp_lie]\n",
    "\n",
    "        assert predicted_truth_token==value['truth_token'], f\"predicted_truth_token: {predicted_truth_token}, value['truth_token']: {value['truth_token']}\"\n",
    "        assert predicted_lie_token==value['lie_token'], f\"predicted_lie_token: {predicted_lie_token}, value['lie_token']: {value['lie_token']}\"\n",
    "      \n",
    "        prob_truth[i, ctr] = unembedded_truth.softmax(dim=0)[predicted_truth_token]\n",
    "        prob_lie[i, ctr] = unembedded_lie.softmax(dim=0)[predicted_lie_token]\n",
    "        ctr+=1"
   ]
  },
  {
   "cell_type": "code",
   "execution_count": 60,
   "metadata": {},
   "outputs": [],
   "source": [
    "def plot_prob(prob_t, prob_l, token_pos, dataset_name, plot_all_curves=False):\n",
    "    # plot\n",
    "    fig, ax = plt.subplots(figsize=(10, 5))\n",
    "\n",
    "    if plot_all_curves:\n",
    "        alpha = prob_t.shape[1]/10.0\n",
    "        ax.plot(prob_t, color='tab:blue', alpha=alpha)\n",
    "        ax.plot(prob_l, color='tab:orange', alpha=alpha)\n",
    "    ax.plot(prob_t.median(axis=1).values, color='tab:blue', label='truth median')\n",
    "    ax.plot(prob_l.median(axis=1).values, color='tab:orange', label='lie median')\n",
    "    ax.plot(prob_t.mean(axis=1), color='tab:blue', label='truth mean', linestyle='--')\n",
    "    ax.plot(prob_l.mean(axis=1), color='tab:orange', label='lie mean', linestyle='--')\n",
    "\n",
    "    ax.grid()\n",
    "    ax.set_xlabel(\"Layer\")\n",
    "    ax.set_ylabel(\"Probability\")\n",
    "    ax.set_title(f\"Probabilities for {dataset_name} (token {token_pos})\")\n",
    "    ax.legend()\n",
    "\n",
    "    fig.savefig(f\"plots/probability_predicted_token_{dataset_name}_token_pos_{token_pos}.png\")"
   ]
  },
  {
   "cell_type": "code",
   "execution_count": 61,
   "metadata": {},
   "outputs": [
    {
     "data": {
      "image/png": "[encoded data removed]",
      "text/plain": [
       "<Figure size 1000x500 with 1 Axes>"
      ]
     },
     "metadata": {},
     "output_type": "display_data"
    }
   ],
   "source": [
    "plot_prob(prob_truth, prob_lie, \"custom\", dataset['dataset_name'], plot_all_curves=True)"
   ]
  }
 ],
 "metadata": {
  "kernelspec": {
   "display_name": "env",
   "language": "python",
   "name": "python3"
  },
  "language_info": {
   "codemirror_mode": {
    "name": "ipython",
    "version": 3
   },
   "file_extension": ".py",
   "mimetype": "text/x-python",
   "name": "python",
   "nbconvert_exporter": "python",
   "pygments_lexer": "ipython3",
   "version": "3.10.12"
  }
 },
 "nbformat": 4,
 "nbformat_minor": 2
}
