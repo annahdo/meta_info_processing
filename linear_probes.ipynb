{
 "cells": [
  {
   "cell_type": "code",
   "execution_count": 1,
   "metadata": {},
   "outputs": [
    {
     "name": "stdout",
     "output_type": "stream",
     "text": [
      "Cloning into '/root/geometry-of-truth'...\n",
      "remote: Enumerating objects: 273, done.\u001b[K\n",
      "remote: Counting objects: 100% (78/78), done.\u001b[K\n",
      "remote: Compressing objects: 100% (33/33), done.\u001b[K\n",
      "remote: Total 273 (delta 55), reused 59 (delta 45), pack-reused 195\u001b[K\n",
      "Receiving objects: 100% (273/273), 71.49 MiB | 27.51 MiB/s, done.\n",
      "Resolving deltas: 100% (139/139), done.\n",
      "Updating files: 100% (52/52), done.\n"
     ]
    }
   ],
   "source": [
    "# get datasetd from \"geometry of truth paper\"\n",
    "!git clone https://github.com/saprmarks/geometry-of-truth.git /root/geometry-of-truth\n",
    "!mv /root/geometry-of-truth/datasets/*.csv data"
   ]
  },
  {
   "cell_type": "code",
   "execution_count": 1,
   "metadata": {},
   "outputs": [],
   "source": [
    "import os\n",
    "import pandas as pd\n",
    "from transformers import AutoTokenizer, AutoModelForCausalLM\n",
    "from baukit import Trace\n",
    "import torch\n",
    "import matplotlib.pyplot as plt\n",
    "import pandas as pd\n",
    "import numpy as np"
   ]
  },
  {
   "cell_type": "code",
   "execution_count": 2,
   "metadata": {},
   "outputs": [],
   "source": [
    "# import my modules\n",
    "import importlib\n",
    "# join the path to the modules to the current working directory\n",
    "\\\n",
    "import utils, dataset_utils\n",
    "importlib.reload(utils)\n",
    "importlib.reload(dataset_utils)\n",
    "from utils import *\n",
    "from dataset_utils import *"
   ]
  },
  {
   "cell_type": "code",
   "execution_count": 3,
   "metadata": {},
   "outputs": [
    {
     "name": "stdout",
     "output_type": "stream",
     "text": [
      "\n",
      " ########## cities.csv ##########\n",
      "Index(['statement', 'label', 'city', 'country', 'correct_country'], dtype='object')\n",
      "\n",
      " ########## cities_cities_conj.csv ##########\n",
      "Index(['statement', 'label', 'statement1', 'label1', 'city1', 'country1',\n",
      "       'correct_country1', 'statement2', 'label2', 'city2', 'country2',\n",
      "       'correct_country2'],\n",
      "      dtype='object')\n",
      "\n",
      " ########## cities_cities_disj.csv ##########\n",
      "Index(['statement', 'label', 'statement1', 'label1', 'city1', 'country1',\n",
      "       'correct_country1', 'statement2', 'label2', 'city2', 'country2',\n",
      "       'correct_country2'],\n",
      "      dtype='object')\n",
      "\n",
      " ########## common_claim.csv ##########\n",
      "Index(['Unnamed: 0', 'examples', 'label', 'agreement'], dtype='object')\n",
      "\n",
      " ########## common_claim_true_false.csv ##########\n",
      "Index(['statement', 'label'], dtype='object')\n",
      "\n",
      " ########## companies_true_false.csv ##########\n",
      "Index(['statement', 'label'], dtype='object')\n",
      "\n",
      " ########## counterfact_true_false.csv ##########\n",
      "Index(['statement', 'label', 'relation', 'subject', 'target', 'true_target'], dtype='object')\n",
      "\n",
      " ########## geonames.csv ##########\n",
      "Index(['Geoname ID', 'Name', 'ASCII Name', 'Alternate Names', 'Feature Class',\n",
      "       'Feature Code', 'Country Code', 'Country name EN', 'Country Code 2',\n",
      "       'Admin1 Code', 'Admin2 Code', 'Admin3 Code', 'Admin4 Code',\n",
      "       'Population', 'Elevation', 'DIgital Elevation Model', 'Timezone',\n",
      "       'Modification date', 'LABEL EN', 'Coordinates'],\n",
      "      dtype='object')\n",
      "\n",
      " ########## larger_than.csv ##########\n",
      "Index(['statement', 'label', 'n1', 'n2', 'diff', 'abs_diff'], dtype='object')\n",
      "\n",
      " ########## likely.csv ##########\n",
      "Index(['statement', 'label', 'likelihood'], dtype='object')\n",
      "\n",
      " ########## likely_old.csv ##########\n",
      "Index(['statement', 'label', 'likelihood'], dtype='object')\n",
      "\n",
      " ########## neg_cities.csv ##########\n",
      "Index(['statement', 'label', 'city', 'country', 'correct_country'], dtype='object')\n",
      "\n",
      " ########## neg_sp_en_trans.csv ##########\n",
      "Index(['statement', 'label'], dtype='object')\n",
      "\n",
      " ########## smaller_than.csv ##########\n",
      "Index(['statement', 'label', 'n1', 'n2', 'diff', 'abs_diff'], dtype='object')\n",
      "\n",
      " ########## sp_en_trans.csv ##########\n",
      "Index(['statement', 'label'], dtype='object')\n"
     ]
    }
   ],
   "source": [
    "# iterate through all csv files in data folder\n",
    "for file in os.listdir('data'):\n",
    "    if not file.endswith('.csv'):\n",
    "        continue\n",
    "    df = pd.read_csv('data/'+file)\n",
    "    print('\\n','#'*10, file, '#'*10)\n",
    "    # print column names\n",
    "    print(df.columns)"
   ]
  },
  {
   "cell_type": "code",
   "execution_count": 4,
   "metadata": {},
   "outputs": [],
   "source": [
    "dataset_name = \"cities\"\n",
    "df = pd.read_csv('data/'+dataset_name+'.csv')\n",
    "\n",
    "train_dataset = {'dataset_name': dataset_name,\n",
    "           'org_data': list(df.statement),\n",
    "           'label': list(df.label)}"
   ]
  },
  {
   "cell_type": "code",
   "execution_count": 5,
   "metadata": {},
   "outputs": [
    {
     "data": {
      "application/vnd.jupyter.widget-view+json": {
       "model_id": "dfb30b1c01604a78abe6899bd88d08ec",
       "version_major": 2,
       "version_minor": 0
      },
      "text/plain": [
       "Loading checkpoint shards:   0%|          | 0/8 [00:00<?, ?it/s]"
      ]
     },
     "metadata": {},
     "output_type": "display_data"
    }
   ],
   "source": [
    "device = torch.device(\"cuda\" if torch.cuda.is_available() else \"cpu\")\n",
    "precision = torch.float16\n",
    "# load model\n",
    "# model_name = \"mistralai/Mistral-7B-v0.1\"\n",
    "model_name = \"HuggingFaceH4/zephyr-7b-beta\" \n",
    "#model_name = \"meta-llama/Llama-2-7b-chat-hf\"\n",
    "short_model_name = model_name.split(\"/\")[-1]\n",
    "plots_folder = f'plots/{short_model_name}'\n",
    "os.makedirs(plots_folder, exist_ok=True)\n",
    "# model_name = \"huggyllama/llama-7b\"\n",
    "# load tokenizer\n",
    "if model_name == \"meta-llama/Llama-2-7b-chat-hf\":\n",
    "    # get access token from environment variable\n",
    "    access_token = os.getenv(\"HF_TOKEN\")\n",
    "    if not access_token:\n",
    "        access_token = input(\"Please set the HF_TOKEN environment variable to your Hugging Face access token.\")\n",
    "    # access_token = input(\"Enter your access token: \")\n",
    "    model = AutoModelForCausalLM.from_pretrained(model_name, torch_dtype=precision, token=access_token).to(device).eval()\n",
    "    tokenizer = AutoTokenizer.from_pretrained(model_name, token=access_token)\n",
    "    tokenizer.padding_side = \"left\"\n",
    "    tokenizer.pad_token_id = tokenizer.eos_token_id\n",
    "\n",
    "else:\n",
    "\n",
    "    model = AutoModelForCausalLM.from_pretrained(model_name, torch_dtype=torch.float16).to(device).eval()\n",
    "    tokenizer = AutoTokenizer.from_pretrained(model_name)\n",
    "    tokenizer.padding_side = \"left\"\n",
    "    tokenizer.pad_token_id = tokenizer.eos_token_id\n",
    "\n",
    "\n",
    "batch_size = 64\n",
    "module_names = [f'model.layers.{i}' for i in range(model.config.num_hidden_layers)]\n",
    "num_modules = len(module_names)"
   ]
  },
  {
   "cell_type": "code",
   "execution_count": 6,
   "metadata": {},
   "outputs": [
    {
     "name": "stderr",
     "output_type": "stream",
     "text": [
      "100%|██████████| 24/24 [00:08<00:00,  2.86it/s]\n"
     ]
    }
   ],
   "source": [
    "torch.cuda.empty_cache()\n",
    "# get internal activations\n",
    "\n",
    "token_positions = -1\n",
    "# returns a dictionary with the hidden states of token_position (shape [len(selected_data), hidden_dim]) for each module\n",
    "train_dataset['hidden_states'] = get_hidden(model, tokenizer, module_names, train_dataset['org_data'], batch_size=batch_size, token_position=-1)"
   ]
  },
  {
   "cell_type": "code",
   "execution_count": 7,
   "metadata": {},
   "outputs": [
    {
     "data": {
      "text/plain": [
       "torch.Size([32, 1496, 4096])"
      ]
     },
     "execution_count": 7,
     "metadata": {},
     "output_type": "execute_result"
    }
   ],
   "source": [
    "train_dataset['hidden_states'].shape"
   ]
  },
  {
   "cell_type": "code",
   "execution_count": 8,
   "metadata": {},
   "outputs": [
    {
     "data": {
      "text/plain": [
       "(torch.Size([32, 1196, 4096]), torch.Size([32, 300, 4096]))"
      ]
     },
     "execution_count": 8,
     "metadata": {},
     "output_type": "execute_result"
    }
   ],
   "source": [
    "train_data, test_data, train_labels, test_labels = prep_data(train_dataset['hidden_states'], train_dataset['label'], train_perc=0.8)\n",
    "train_data.shape, test_data.shape"
   ]
  },
  {
   "cell_type": "code",
   "execution_count": 9,
   "metadata": {},
   "outputs": [
    {
     "name": "stderr",
     "output_type": "stream",
     "text": [
      "100%|██████████| 32/32 [00:06<00:00,  5.04it/s]\n"
     ]
    }
   ],
   "source": [
    "# training probes\n",
    "probes = {}\n",
    "for idx, module in tqdm(enumerate(module_names), total=num_modules):\n",
    "    probes[module] = LRProbe(d_in=model.config.hidden_size, device='cuda', dtype=torch.float32)\n",
    "    probes[module].train(train_data[idx], train_labels, epochs=2, batch_size=batch_size)\n",
    "\n",
    "# test on same dataset\n",
    "test_accs = {}\n",
    "train_accs = {}\n",
    "for idx, module in enumerate(module_names):\n",
    "    test_accs[module] = probes[module].test(test_data[idx], test_labels)\n",
    "    train_accs[module] = probes[module].test(train_data[idx], train_labels)"
   ]
  },
  {
   "cell_type": "code",
   "execution_count": 10,
   "metadata": {},
   "outputs": [
    {
     "name": "stdout",
     "output_type": "stream",
     "text": [
      "model.layers.0\t0.47\n",
      "model.layers.5\t0.92\n",
      "model.layers.10\t1\n",
      "model.layers.15\t1\n",
      "model.layers.20\t0.99\n",
      "model.layers.25\t0.99\n",
      "model.layers.30\t0.99\n"
     ]
    }
   ],
   "source": [
    "# print every 5th test acc:\n",
    "for index, (key, value) in enumerate(test_accs.items()):\n",
    "    if index % 5 == 0:\n",
    "        print(f'{key}\\t{value:.2g}') "
   ]
  },
  {
   "cell_type": "code",
   "execution_count": 11,
   "metadata": {},
   "outputs": [],
   "source": [
    "def test_probes(probes, test_data, test_labels, module_names, normalize=True):\n",
    "    if normalize:\n",
    "        # calc statistics over samples and token positions\n",
    "        mean_test = test_data.mean([1, 2], keepdim=True)\n",
    "        std_test = test_data.std([1, 2], keepdim=True)\n",
    "        test_data = (test_data - mean_test)/std_test\n",
    "\n",
    "    test_accs_ood = {}\n",
    "    for idx, module in tqdm(enumerate(module_names), total=len(module_names)):\n",
    "        test_accs_ood[module] = {}\n",
    "        for token_pos in range(test_data.shape[2]):\n",
    "            test_accs_ood[module][token_pos] = probes[module].test(test_data[idx,:,token_pos, :], test_labels)\n",
    "\n",
    "    return test_accs_ood\n",
    "\n",
    "def plot_test_accs(test_accs, positions, train_dataset_name, test_dataset_name):\n",
    "    # plot test accs for ood dataset\n",
    "    plt.figure(figsize=(10, 6))\n",
    "\n",
    "    for pos, label in positions.items():\n",
    "        plt.plot([acc[pos] for _,acc in test_accs.items()], label=label)\n",
    "    plt.ylabel('Accuracy')\n",
    "    plt.xlabel('Layer')\n",
    "    plt.grid()\n",
    "    plt.legend()\n",
    "    plt.title(f\"LogRegr trained on \\\"{train_dataset_name}\\\", tested on \\\"{test_dataset_name}\\\"\")\n",
    "    plt.savefig(f\"{plots_folder}/log_regr_trained_{train_dataset_name}_tested_{test_dataset_name}.png\")\n",
    "    plt.show()"
   ]
  },
  {
   "cell_type": "code",
   "execution_count": 12,
   "metadata": {},
   "outputs": [
    {
     "name": "stdout",
     "output_type": "stream",
     "text": [
      "\n",
      "Generating truths and lies\n",
      "Size of dataset Statements1000: 1012\n"
     ]
    },
    {
     "name": "stderr",
     "output_type": "stream",
     "text": [
      "  0%|          | 0/15 [00:00<?, ?it/s]"
     ]
    },
    {
     "name": "stderr",
     "output_type": "stream",
     "text": [
      "16it [00:17,  1.12s/it]                        \n",
      "16it [00:00, 468.36it/s]              \n"
     ]
    },
    {
     "name": "stdout",
     "output_type": "stream",
     "text": [
      "Success rate when generating truths: 76.68%\n"
     ]
    },
    {
     "name": "stderr",
     "output_type": "stream",
     "text": [
      "16it [00:18,  1.15s/it]                        \n",
      "16it [00:00, 484.76it/s]              "
     ]
    },
    {
     "name": "stdout",
     "output_type": "stream",
     "text": [
      "Success rate when generating lies:   60.28%\n",
      "Overlap: 42.29%\n"
     ]
    },
    {
     "name": "stderr",
     "output_type": "stream",
     "text": [
      "\n"
     ]
    }
   ],
   "source": [
    "# test on out of distribution dataset\n",
    "\n",
    "max_new_tokens = 10\n",
    "test_dataset_name = 'Statements1000'\n",
    "\n",
    "# load dataset\n",
    "test_dataset = load_data_set(test_dataset_name)\n",
    "if model_name == \"meta-llama/Llama-2-7b-chat-hf\":\n",
    "    lie_format = \"[INST]You will complete the sentence with intentionally false information. [/INST] {}\"\n",
    "    truth_format = \"[INST]You will complete the sentence with accurate information. [/INST] {}\"\n",
    "    change_format(test_dataset, lie_format, truth_format)\n",
    "\n",
    "print('\\nGenerating truths and lies')\n",
    "get_overlap_truth_lies(model, tokenizer, test_dataset, max_new_tokens=max_new_tokens, batch_size=batch_size)\n",
    "# get hidden states for the new dataset\n"
   ]
  },
  {
   "cell_type": "code",
   "execution_count": null,
   "metadata": {},
   "outputs": [],
   "source": [
    "token_positions = range(-max_new_tokens-1, 0, 1)\n",
    "\n",
    "print('\\nCalculating hidden states')\n",
    "# returns a dictionary with the hidden states of token_position (shape [len(selected_data), hidden_dim]) for each module\n",
    "test_dataset['hidden_states_lie'] = get_hidden_from_tokens(model, module_names, test_dataset['output_tokens_lie'], batch_size=batch_size, token_position=token_positions)\n",
    "test_dataset['hidden_states_truth'] = get_hidden_from_tokens(model, module_names, test_dataset['output_tokens_truth'], batch_size=batch_size, token_position=token_positions)\n"
   ]
  },
  {
   "cell_type": "code",
   "execution_count": null,
   "metadata": {},
   "outputs": [],
   "source": [
    "print('\\nTesting probes')\n",
    "samples_per_class = test_dataset['hidden_states_lie'].shape[1]\n",
    "test_labels = torch.cat([torch.zeros(samples_per_class), torch.ones(samples_per_class)])\n",
    "test_data=torch.cat([test_dataset['hidden_states_lie'], test_dataset['hidden_states_truth']], dim=1)\n",
    "test_accs_ood = test_probes(probes, test_data=test_data, test_labels=test_labels, module_names=module_names)\n",
    "\n",
    "# save results\n",
    "plot_test_accs(test_accs_ood, positions={0:'last statement token', 1:'1st answer token', 2:'2nd answer token', 3:'3rd answer token', max_new_tokens:'last answer token'}, \n",
    "            train_dataset_name = train_dataset['dataset_name'], \n",
    "            test_dataset_name = test_dataset['dataset_name'])"
   ]
  },
  {
   "cell_type": "code",
   "execution_count": null,
   "metadata": {},
   "outputs": [],
   "source": [
    "def test_probes_formats(format_sentence, probes, model, tokenizer, module_names, mean_test, std_test, device='cuda'):\n",
    "    inputs = tokenizer(format_sentence, return_tensors=\"pt\").to(model.device)\n",
    "    token_positions = range(inputs['input_ids'].shape[1])\n",
    "    hidden_states = get_hidden_from_tokens(model, module_names, inputs, token_position=token_positions)\n",
    "    print(hidden_states.shape)\n",
    "\n",
    "    # normalize\n",
    "    hidden_states -= mean_test\n",
    "    hidden_states /= std_test\n",
    "\n",
    "    hidden_states = hidden_states.to(device=device, dtype=torch.float32)\n",
    "    decoded = []\n",
    "    for idx, input_id in enumerate(inputs['input_ids'][0]):\n",
    "        decoded.append(tokenizer.decode(input_id))\n",
    "\n",
    "\n",
    "    test_accs_formats = {}\n",
    "    for idx, module in tqdm(enumerate(module_names), total=len(module_names)):\n",
    "        test_accs_formats[module] = {}\n",
    "        for token_pos in token_positions:\n",
    "            test_accs_formats[module][token_pos] = probes[module].forward(hidden_states[idx,:,token_pos, :]).detach().cpu().numpy()\n",
    "\n",
    "    return test_accs_formats, decoded\n",
    "\n",
    "def calc_averages(test_accs_formats, decoded, average_over=3):\n",
    "    pos_dict = {}\n",
    "    ctr =0\n",
    "    averaged_accs = {}\n",
    "    for m, accs in test_accs_formats.items():\n",
    "        ctr =0\n",
    "        averaged_accs[m] = {}\n",
    "        sum_ctr = 0\n",
    "        sum = 0\n",
    "        for k, acc in accs.items():\n",
    "            sum += acc\n",
    "            sum_ctr += 1\n",
    "            if sum_ctr == average_over or k==list(accs.keys())[-1]:            \n",
    "                averaged_accs[m][ctr]=sum/average_over\n",
    "                sum = 0\n",
    "                sum_ctr = 0\n",
    "                ctr+=1\n",
    "    ctr = 0\n",
    "    for i in range(0, len(decoded), average_over):\n",
    "        pos_dict[ctr] = ', '.join(decoded[i:i+average_over])\n",
    "        ctr += 1\n",
    "\n",
    "\n",
    "    return pos_dict, averaged_accs\n",
    "\n",
    "# get mean and std\n",
    "average_over = 3\n",
    "mean_test = test_data.mean([1, 2], keepdim=True)\n",
    "std_test = test_data.std([1, 2], keepdim=True)\n",
    "\n",
    "test_accs_formats, decoded = test_probes_formats(format_sentence=test_dataset['truth_format'].format(''), \n",
    "                    probes=probes, model=model, tokenizer=tokenizer, \n",
    "                    module_names=module_names, mean_test=mean_test, std_test=std_test, device='cuda')\n",
    "print(f'format: \"{test_dataset[\"truth_format\"].format(\"\")}\"')\n",
    "print(f\"tokens: {decoded}\")\n",
    "\n",
    "pos_dict, averaged_accs = calc_averages(test_accs_formats, decoded, average_over=average_over)\n",
    "\n",
    "\n",
    "plot_test_accs(averaged_accs, positions=pos_dict, \n",
    "               train_dataset_name = train_dataset['dataset_name'], \n",
    "               test_dataset_name = test_dataset['dataset_name']+'_truth_format')\n",
    "\n",
    "test_accs_formats, decoded = test_probes_formats(format_sentence=test_dataset['lie_format'].format(''),\n",
    "                                                probes=probes, model=model, tokenizer=tokenizer, \n",
    "                                                module_names=module_names, mean_test=mean_test, std_test=std_test, device='cuda')\n",
    "print(f'format: \"{test_dataset[\"truth_format\"].format(\"\")}\"')\n",
    "print(f\"tokens: {decoded}\")\n",
    "\n",
    "pos_dict, averaged_accs = calc_averages(test_accs_formats, decoded, average_over=average_over)\n",
    "plot_test_accs(averaged_accs, positions=pos_dict, \n",
    "               train_dataset_name = train_dataset['dataset_name'], \n",
    "               test_dataset_name = test_dataset['dataset_name']+'_lie_format')"
   ]
  },
  {
   "cell_type": "code",
   "execution_count": null,
   "metadata": {},
   "outputs": [],
   "source": []
  },
  {
   "cell_type": "markdown",
   "metadata": {},
   "source": [
    "# evolution of acc over all tokens"
   ]
  },
  {
   "cell_type": "code",
   "execution_count": 13,
   "metadata": {},
   "outputs": [
    {
     "data": {
      "text/plain": [
       "(62, 60)"
      ]
     },
     "execution_count": 13,
     "metadata": {},
     "output_type": "execute_result"
    }
   ],
   "source": [
    "attention_mask_lie = test_dataset['output_tokens_lie']['attention_mask']\n",
    "attention_mask_truth = test_dataset['output_tokens_truth']['attention_mask']\n",
    "\n",
    "max_num_tokens_lie = attention_mask_lie.shape[1]\n",
    "max_num_tokens_truth = attention_mask_truth.shape[1]\n",
    "num_samples = attention_mask_lie.shape[0]\n",
    "hidden_dim = model.config.hidden_size\n",
    "max_num_tokens_lie, max_num_tokens_truth\n"
   ]
  },
  {
   "cell_type": "code",
   "execution_count": 14,
   "metadata": {},
   "outputs": [
    {
     "data": {
      "text/plain": [
       "torch.Size([428, 62])"
      ]
     },
     "execution_count": 14,
     "metadata": {},
     "output_type": "execute_result"
    }
   ],
   "source": [
    "attention_mask_lie.shape"
   ]
  },
  {
   "cell_type": "code",
   "execution_count": 33,
   "metadata": {},
   "outputs": [],
   "source": [
    "max_tokens = max(max_num_tokens_lie, max_num_tokens_truth)\n",
    "start_lie = max_tokens - max_num_tokens_lie\n",
    "start_truth = max_tokens - max_num_tokens_truth\n",
    "\n",
    "# the hidden states are quite large, so we need to split them into smaller batches\n",
    "half_batch_size = 32"
   ]
  },
  {
   "cell_type": "code",
   "execution_count": 34,
   "metadata": {},
   "outputs": [
    {
     "data": {
      "text/plain": [
       "62"
      ]
     },
     "execution_count": 34,
     "metadata": {},
     "output_type": "execute_result"
    }
   ],
   "source": [
    "max_tokens"
   ]
  },
  {
   "cell_type": "code",
   "execution_count": 42,
   "metadata": {},
   "outputs": [
    {
     "name": "stdout",
     "output_type": "stream",
     "text": [
      "\n",
      "Calculating hidden states\n"
     ]
    },
    {
     "name": "stderr",
     "output_type": "stream",
     "text": [
      "  0%|          | 0/1 [00:00<?, ?it/s]"
     ]
    },
    {
     "name": "stderr",
     "output_type": "stream",
     "text": [
      "100%|██████████| 1/1 [00:00<00:00,  1.33it/s]\n",
      "100%|██████████| 1/1 [00:00<00:00,  1.92it/s]\n",
      "100%|██████████| 32/32 [00:03<00:00, 10.06it/s]\n",
      "100%|██████████| 1/1 [00:00<00:00,  1.61it/s]\n",
      "100%|██████████| 1/1 [00:00<00:00,  1.94it/s]\n",
      "100%|██████████| 32/32 [00:03<00:00, 10.31it/s]\n",
      "100%|██████████| 1/1 [00:00<00:00,  1.34it/s]\n",
      "100%|██████████| 1/1 [00:00<00:00,  1.88it/s]\n",
      "100%|██████████| 32/32 [00:03<00:00, 10.61it/s]\n",
      "100%|██████████| 1/1 [00:00<00:00,  1.35it/s]\n",
      "100%|██████████| 1/1 [00:00<00:00,  1.90it/s]\n",
      "100%|██████████| 32/32 [00:02<00:00, 10.75it/s]\n",
      "100%|██████████| 1/1 [00:00<00:00,  1.49it/s]\n",
      "100%|██████████| 1/1 [00:00<00:00,  1.90it/s]\n",
      "100%|██████████| 32/32 [00:03<00:00,  9.65it/s]\n",
      "100%|██████████| 1/1 [00:00<00:00,  1.60it/s]\n",
      "100%|██████████| 1/1 [00:00<00:00,  1.55it/s]\n",
      "100%|██████████| 32/32 [00:02<00:00, 11.13it/s]\n",
      "100%|██████████| 1/1 [00:00<00:00,  1.68it/s]\n",
      "100%|██████████| 1/1 [00:00<00:00,  1.92it/s]\n",
      "100%|██████████| 32/32 [00:02<00:00, 10.73it/s]\n",
      "100%|██████████| 1/1 [00:00<00:00,  1.25it/s]\n",
      "100%|██████████| 1/1 [00:00<00:00,  1.90it/s]\n",
      "100%|██████████| 32/32 [00:03<00:00,  9.69it/s]\n",
      "100%|██████████| 1/1 [00:00<00:00,  1.66it/s]\n",
      "100%|██████████| 1/1 [00:00<00:00,  1.50it/s]\n",
      "100%|██████████| 32/32 [00:03<00:00,  9.37it/s]\n",
      "100%|██████████| 1/1 [00:00<00:00,  1.67it/s]\n",
      "100%|██████████| 1/1 [00:00<00:00,  1.94it/s]\n",
      "100%|██████████| 32/32 [00:03<00:00,  9.85it/s]\n",
      "100%|██████████| 1/1 [00:00<00:00,  1.34it/s]\n",
      "100%|██████████| 1/1 [00:00<00:00,  1.89it/s]\n",
      "100%|██████████| 32/32 [00:02<00:00, 11.65it/s]\n",
      "100%|██████████| 1/1 [00:00<00:00,  1.36it/s]\n",
      "100%|██████████| 1/1 [00:00<00:00,  1.91it/s]\n",
      "100%|██████████| 32/32 [00:02<00:00, 10.68it/s]\n",
      "100%|██████████| 1/1 [00:00<00:00,  1.67it/s]\n",
      "100%|██████████| 1/1 [00:00<00:00,  1.94it/s]\n",
      "100%|██████████| 32/32 [00:02<00:00, 10.80it/s]\n",
      "100%|██████████| 1/1 [00:00<00:00,  3.11it/s]\n",
      "100%|██████████| 1/1 [00:00<00:00,  4.57it/s]\n",
      "100%|██████████| 32/32 [00:02<00:00, 15.08it/s]\n"
     ]
    }
   ],
   "source": [
    "print('\\nCalculating hidden states')\n",
    "# returns a dictionary with the hidden states of token_position (shape [len(selected_data), hidden_dim]) for each module\n",
    "normalize = True\n",
    "# i iterate from the back as i use left padding and tokens of lying and truth telling are aligned at the end\n",
    "\n",
    "test_accs_ood = torch.zeros([num_modules, num_samples*2, max_tokens], device='cpu', dtype=torch.float32)*torch.Tensor([float('nan')])\n",
    "\n",
    "for i in range(0, num_samples, half_batch_size):\n",
    "\n",
    "    this_batch_size = min(half_batch_size, num_samples-i)\n",
    "    hidden_states = torch.zeros([num_modules, this_batch_size*2, max_tokens, hidden_dim], device='cpu', dtype=precision)\n",
    "    attention_mask = torch.zeros([this_batch_size*2, max_tokens], device='cpu', dtype=attention_mask_lie.dtype)\n",
    "\n",
    "    token_positions_lie = range(max_num_tokens_lie)\n",
    "    data = {'input_ids': test_dataset['output_tokens_lie']['input_ids'][i:i+this_batch_size],\n",
    "            'attention_mask': test_dataset['output_tokens_lie']['attention_mask'][i:i+this_batch_size]}\n",
    "    temp_hidden = get_hidden_from_tokens(model, module_names, data, batch_size=batch_size, token_position=token_positions_lie)\n",
    "    attention_mask[:this_batch_size, start_lie:max_tokens] = data['attention_mask']\n",
    "\n",
    "    # set values where attention is zero to nan\n",
    "    hidden_states[:, :this_batch_size, start_lie:max_tokens, :] = temp_hidden\n",
    "\n",
    "    token_positions_truth = range(max_num_tokens_truth)\n",
    "    data = {'input_ids': test_dataset['output_tokens_truth']['input_ids'][i:i+this_batch_size],\n",
    "            'attention_mask': test_dataset['output_tokens_truth']['attention_mask'][i:i+this_batch_size]}\n",
    "    temp_hidden = get_hidden_from_tokens(model, module_names, data, batch_size=batch_size, token_position=token_positions_truth)\n",
    "    temp_attention = (attention_mask_truth[i:i+this_batch_size, :][None, :, :, None]==1)\n",
    "    hidden_states[:, this_batch_size:, start_truth:max_tokens, :] = temp_hidden\n",
    "    attention_mask[this_batch_size:, start_truth:max_tokens] = data['attention_mask']\n",
    "    test_labels = torch.cat([torch.zeros(this_batch_size), torch.ones(this_batch_size)])\n",
    "\n",
    "    if normalize:\n",
    "        # calc statistics over samples and token positions\n",
    "        mean_test = hidden_states.nanmean([1, 2], keepdim=True)\n",
    "        std_test = hidden_states.nanmean([1, 2], keepdim=True)\n",
    "        test_data = (hidden_states - mean_test)/std_test\n",
    "\n",
    "    for idx, module in tqdm(enumerate(module_names), total=len(module_names)):\n",
    "        probe = probes[module]\n",
    "        probe.net.eval()\n",
    "        for token_pos in range(test_data.shape[2]):\n",
    "            with torch.no_grad():\n",
    "                acts_batch = test_data[idx, :, token_pos].to(device=probe.device, dtype=probe.dtype)\n",
    "                test_accs_ood[idx, i:i+this_batch_size*2, token_pos] = probe.forward(acts_batch).detach().cpu()\n",
    "\n",
    "    # set accs to nan where attention is zero\n",
    "    test_accs_ood[:, i:i+this_batch_size*2, :] = torch.where(condition=attention_mask[None, :, :]==1, \n",
    "                                                                input=test_accs_ood[:, i:i+this_batch_size*2, :], \n",
    "                                                                other=torch.Tensor([float('nan')]))\n"
   ]
  },
  {
   "cell_type": "code",
   "execution_count": 37,
   "metadata": {},
   "outputs": [],
   "source": [
    "probe = probes[module]\n",
    "probe.net.eval()\n",
    "\n",
    "acts_batch = test_data[idx, :, token_pos].to(device=probe.device, dtype=probe.dtype)\n",
    "a = probe.forward(acts_batch).detach().cpu()"
   ]
  },
  {
   "cell_type": "code",
   "execution_count": 35,
   "metadata": {},
   "outputs": [
    {
     "data": {
      "text/plain": [
       "torch.Size([32, 64, 62, 4096])"
      ]
     },
     "execution_count": 35,
     "metadata": {},
     "output_type": "execute_result"
    }
   ],
   "source": [
    "test_data.shape"
   ]
  },
  {
   "cell_type": "code",
   "execution_count": 38,
   "metadata": {},
   "outputs": [
    {
     "data": {
      "text/plain": [
       "(torch.Size([64]), device(type='cpu'), torch.float32)"
      ]
     },
     "execution_count": 38,
     "metadata": {},
     "output_type": "execute_result"
    }
   ],
   "source": [
    "a.shape, a.device, a.dtype"
   ]
  },
  {
   "cell_type": "code",
   "execution_count": 36,
   "metadata": {},
   "outputs": [
    {
     "data": {
      "text/plain": [
       "torch.Size([32, 856, 62])"
      ]
     },
     "execution_count": 36,
     "metadata": {},
     "output_type": "execute_result"
    }
   ],
   "source": [
    "test_accs_ood.shape"
   ]
  },
  {
   "cell_type": "code",
   "execution_count": 39,
   "metadata": {},
   "outputs": [
    {
     "data": {
      "text/plain": [
       "torch.Size([64, 62, 1])"
      ]
     },
     "execution_count": 39,
     "metadata": {},
     "output_type": "execute_result"
    }
   ],
   "source": [
    "attention_mask[None, :, :].shape"
   ]
  },
  {
   "cell_type": "code",
   "execution_count": 40,
   "metadata": {},
   "outputs": [
    {
     "data": {
      "text/plain": [
       "torch.Size([32, 64, 62])"
      ]
     },
     "execution_count": 40,
     "metadata": {},
     "output_type": "execute_result"
    }
   ],
   "source": [
    "test_accs_ood[:, i:i+this_batch_size*2, :].shape"
   ]
  },
  {
   "cell_type": "code",
   "execution_count": null,
   "metadata": {},
   "outputs": [],
   "source": []
  }
 ],
 "metadata": {
  "kernelspec": {
   "display_name": "env",
   "language": "python",
   "name": "python3"
  },
  "language_info": {
   "codemirror_mode": {
    "name": "ipython",
    "version": 3
   },
   "file_extension": ".py",
   "mimetype": "text/x-python",
   "name": "python",
   "nbconvert_exporter": "python",
   "pygments_lexer": "ipython3",
   "version": "3.10.12"
  }
 },
 "nbformat": 4,
 "nbformat_minor": 2
}
