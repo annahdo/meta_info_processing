{
 "cells": [
  {
   "cell_type": "code",
   "execution_count": 111,
   "metadata": {},
   "outputs": [
    {
     "name": "stderr",
     "output_type": "stream",
     "text": [
      "huggingface/tokenizers: The current process just got forked, after parallelism has already been used. Disabling parallelism to avoid deadlocks...\n",
      "To disable this warning, you can either:\n",
      "\t- Avoid using `tokenizers` before the fork if possible\n",
      "\t- Explicitly set the environment variable TOKENIZERS_PARALLELISM=(true | false)\n"
     ]
    },
    {
     "name": "stdout",
     "output_type": "stream",
     "text": [
      "fatal: destination path '/root/geometry-of-truth' already exists and is not an empty directory.\n"
     ]
    },
    {
     "name": "stderr",
     "output_type": "stream",
     "text": [
      "huggingface/tokenizers: The current process just got forked, after parallelism has already been used. Disabling parallelism to avoid deadlocks...\n",
      "To disable this warning, you can either:\n",
      "\t- Avoid using `tokenizers` before the fork if possible\n",
      "\t- Explicitly set the environment variable TOKENIZERS_PARALLELISM=(true | false)\n"
     ]
    },
    {
     "name": "stdout",
     "output_type": "stream",
     "text": [
      "mv: cannot stat '/root/geometry-of-truth/datasets/*.csv': No such file or directory\n"
     ]
    }
   ],
   "source": [
    "# get datasetd from \"geometry of truth paper\"\n",
    "!git clone https://github.com/saprmarks/geometry-of-truth.git /root/geometry-of-truth\n",
    "!mv /root/geometry-of-truth/datasets/*.csv data"
   ]
  },
  {
   "cell_type": "code",
   "execution_count": null,
   "metadata": {},
   "outputs": [],
   "source": [
    "import os\n",
    "import pandas as pd\n",
    "from transformers import AutoTokenizer, AutoModelForCausalLM\n",
    "from baukit import Trace\n",
    "import torch\n",
    "import matplotlib.pyplot as plt\n",
    "import pandas as pd\n",
    "import numpy as np"
   ]
  },
  {
   "cell_type": "code",
   "execution_count": null,
   "metadata": {},
   "outputs": [],
   "source": [
    "# import my modules\n",
    "import importlib\n",
    "# join the path to the modules to the current working directory\n",
    "\n",
    "import utils, dataset_utils\n",
    "importlib.reload(utils)\n",
    "importlib.reload(dataset_utils)\n",
    "from utils import *\n",
    "from dataset_utils import *"
   ]
  },
  {
   "cell_type": "code",
   "execution_count": null,
   "metadata": {},
   "outputs": [],
   "source": [
    "# iterate through all csv files in data folder\n",
    "for file in os.listdir('data'):\n",
    "    if not file.endswith('.csv'):\n",
    "        continue\n",
    "    df = pd.read_csv('data/'+file)\n",
    "    print('\\n','#'*10, file, '#'*10)\n",
    "    # print column names\n",
    "    print(df.columns)"
   ]
  },
  {
   "cell_type": "code",
   "execution_count": null,
   "metadata": {},
   "outputs": [],
   "source": [
    "dataset_name = \"cities\"\n",
    "df = pd.read_csv('data/'+dataset_name+'.csv')\n",
    "\n",
    "train_dataset = {'dataset_name': dataset_name,\n",
    "           'org_data': list(df.statement),\n",
    "           'label': list(df.label)}"
   ]
  },
  {
   "cell_type": "code",
   "execution_count": null,
   "metadata": {},
   "outputs": [],
   "source": [
    "device = torch.device(\"cuda\" if torch.cuda.is_available() else \"cpu\")\n",
    "precision = torch.float16\n",
    "# load model\n",
    "# model_name = \"mistralai/Mistral-7B-v0.1\"\n",
    "# model_name = \"HuggingFaceH4/zephyr-7b-beta\" \n",
    "model_name = \"meta-llama/Llama-2-7b-chat-hf\"\n",
    "short_model_name = model_name.split(\"/\")[-1]\n",
    "plots_folder = f'plots/{short_model_name}'\n",
    "\n",
    "if not os.path.exists(plots_folder):\n",
    "    os.makedirs(plots_folder)\n",
    "# model_name = \"huggyllama/llama-7b\"\n",
    "# load tokenizer\n",
    "if model_name == \"meta-llama/Llama-2-7b-chat-hf\":\n",
    "    # get access token from environment variable\n",
    "    access_token = os.getenv(\"HF_TOKEN\")\n",
    "    # access_token = input(\"Enter your access token: \")\n",
    "    model = AutoModelForCausalLM.from_pretrained(model_name, torch_dtype=precision, token=access_token).to(device).eval()\n",
    "    tokenizer = AutoTokenizer.from_pretrained(model_name, token=access_token)\n",
    "    tokenizer.padding_side = \"left\"\n",
    "    tokenizer.pad_token_id = tokenizer.eos_token_id\n",
    "\n",
    "else:\n",
    "\n",
    "    model = AutoModelForCausalLM.from_pretrained(model_name, torch_dtype=torch.float16).to(device).eval()\n",
    "    tokenizer = AutoTokenizer.from_pretrained(model_name)\n",
    "    tokenizer.padding_side = \"left\"\n",
    "    tokenizer.pad_token_id = tokenizer.eos_token_id\n",
    "\n"
   ]
  },
  {
   "cell_type": "code",
   "execution_count": null,
   "metadata": {},
   "outputs": [],
   "source": [
    "torch.cuda.empty_cache()\n",
    "# get internal activations\n",
    "module_names = [f'model.layers.{i}' for i in range(model.config.num_hidden_layers)]\n",
    "num_modules = len(module_names)\n",
    "token_positions = -1\n",
    "batch_size = 64\n",
    "# returns a dictionary with the hidden states of token_position (shape [len(selected_data), hidden_dim]) for each module\n",
    "train_dataset['hidden_states'] = get_hidden(model, tokenizer, module_names, train_dataset['org_data'], batch_size=batch_size, token_position=-1)"
   ]
  },
  {
   "cell_type": "code",
   "execution_count": null,
   "metadata": {},
   "outputs": [],
   "source": [
    "train_dataset['hidden_states'].shape"
   ]
  },
  {
   "cell_type": "code",
   "execution_count": null,
   "metadata": {},
   "outputs": [],
   "source": [
    "train_data, train_labels, test_data, test_labels = prep_data(data=train_dataset['hidden_states'], labels=train_dataset['label'], train_perc=0.8)"
   ]
  },
  {
   "cell_type": "code",
   "execution_count": null,
   "metadata": {},
   "outputs": [],
   "source": [
    "train_data.shape, test_data.shape"
   ]
  },
  {
   "cell_type": "code",
   "execution_count": null,
   "metadata": {},
   "outputs": [],
   "source": [
    "# training probes\n",
    "probes = {}\n",
    "for idx, module in tqdm(enumerate(module_names), total=num_modules):\n",
    "    probes[module] = LRProbe(d_in=model.config.hidden_size, device='cuda', precision=torch.float32)\n",
    "    probes[module].train(train_data[idx], train_labels, epochs=2, batch_size=batch_size)\n",
    "\n",
    "# test on same dataset\n",
    "test_accs = {}\n",
    "train_accs = {}\n",
    "for idx, module in enumerate(module_names):\n",
    "    test_accs[module] = probes[module].test(test_data[idx], test_labels)\n",
    "    train_accs[module] = probes[module].test(train_data[idx], train_labels)"
   ]
  },
  {
   "cell_type": "code",
   "execution_count": null,
   "metadata": {},
   "outputs": [],
   "source": [
    "# print every 5th test acc:\n",
    "for index, (key, value) in enumerate(test_accs.items()):\n",
    "    if index % 5 == 0:\n",
    "        print(f'{key}\\t{value:.2g}') "
   ]
  },
  {
   "cell_type": "code",
   "execution_count": null,
   "metadata": {},
   "outputs": [],
   "source": [
    "def test_probes(probes, test_data, test_labels, module_names, normalize=True):\n",
    "    test_data_ood = torch.cat(test_data, dim=1)\n",
    "    test_accs_ood = {}\n",
    "    for idx, module in tqdm(enumerate(module_names), total=len(module_names)):\n",
    "        test_accs_ood[module] = {}\n",
    "        for token_pos in token_positions:\n",
    "        if normalize:\n",
    "            normalized = test_data_ood[idx,:,token_pos, :]-test_data_ood[idx,:,token_pos, :].mean(0)\n",
    "            normalized /= normalized.std(0)+1e-11\n",
    "\n",
    "        test_accs_ood[module][token_pos] = probes[module].test(test_data_ood[idx,:,token_pos, :], test_labels)\n",
    "\n",
    "    return test_accs_ood\n",
    "\n",
    "def plot_test_accs(test_accs, positions, train_dataset_name, test_dataset_name):\n",
    "    # plot test accs for ood dataset\n",
    "    plt.figure(figsize=(10, 6))\n",
    "    positions = {-11:'last statement token', -10:'first answer token', -1:'last answer token'}\n",
    "\n",
    "    for pos, label in positions.items():\n",
    "        plt.plot([acc[pos] for _,acc in test_accs.items()], label=label)\n",
    "    plt.ylabel('Accuracy')\n",
    "    plt.xlabel('Layer')\n",
    "    plt.grid()\n",
    "    plt.legend()\n",
    "    plt.title(f\"LogRegr trained on \\\"{train_dataset_name}\\\", tested on \\\"{test_dataset_name}\\\"\")\n",
    "    plt.savefig(f\"{plots_folder}/log_regr_trained_{train_dataset_name}_tested_{test_dataset_name}.png\")\n",
    "    plt.show()"
   ]
  },
  {
   "cell_type": "code",
   "execution_count": null,
   "metadata": {},
   "outputs": [],
   "source": [
    "# test on out of distribution dataset\n",
    "\n",
    "testing_dataset_names = ['Statements1000', 'FreebaseStatements']\n",
    "max_new_tokens = 10\n",
    "\n",
    "for name in testing_dataset_names:\n",
    "    print('\\n\\n' + '#'*10 + name + '#'*10)\n",
    "\n",
    "    test_dataset = load_data_set(name)\n",
    "    if model_name == \"meta-llama/Llama-2-7b-chat-hf\":\n",
    "        lie_format = \"[INST]You will complete the sentence with intentionally false information. [/INST] {}\"\n",
    "        truth_format = \"[INST]You will complete the sentence with accurate information. [/INST] {}\"\n",
    "        change_format(test_dataset, lie_format, truth_format)\n",
    "    \n",
    "    print('\\nGenerating truths and lies')\n",
    "    get_overlap_truth_lies(model, tokenizer, test_dataset, max_new_tokens=max_new_tokens, batch_size=batch_size)\n",
    "    # get hidden states for the new dataset\n",
    "    token_positions = range(-max_new_tokens-1, 0, 1)\n",
    "    print('\\nCalculating hidden states')\n",
    "    # returns a dictionary with the hidden states of token_position (shape [len(selected_data), hidden_dim]) for each module\n",
    "    test_dataset['hidden_states_lie'] = get_hidden_from_tokens(model, module_names, test_dataset['output_tokens_lie'], batch_size=batch_size, token_position=token_positions)\n",
    "    test_dataset['hidden_states_truth'] = get_hidden_from_tokens(model, module_names, test_dataset['output_tokens_truth'], batch_size=batch_size, token_position=token_positions)\n",
    "\n",
    "    print('\\nTesting probes')\n",
    "    samples_per_class = test_dataset['hidden_states_lie'].shape[1]\n",
    "    test_labels = torch.cat([torch.zeros(samples_per_class), torch.ones(samples_per_class)])\n",
    "    test_accs_ood = test_probes(probes, test_data=[test_dataset['hidden_states_lie'], test_dataset['hidden_states_truth']], \n",
    "                                test_labels=test_labels, module_names=module_names)\n",
    "\n",
    "    # save results\n",
    "    plot_test_accs(test_accs_ood, positions={-11:'last statement token', -10:'first answer token', -1:'last answer token'}, \n",
    "               train_dataset_name = train_dataset['dataset_name'], \n",
    "               test_dataset_name = test_dataset['dataset_name'])"
   ]
  }
 ],
 "metadata": {
  "kernelspec": {
   "display_name": "env",
   "language": "python",
   "name": "python3"
  },
  "language_info": {
   "codemirror_mode": {
    "name": "ipython",
    "version": 3
   },
   "file_extension": ".py",
   "mimetype": "text/x-python",
   "name": "python",
   "nbconvert_exporter": "python",
   "pygments_lexer": "ipython3",
   "version": "3.10.12"
  }
 },
 "nbformat": 4,
 "nbformat_minor": 2
}
