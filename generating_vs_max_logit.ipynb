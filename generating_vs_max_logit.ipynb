{
 "cells": [
  {
   "cell_type": "code",
   "execution_count": 1,
   "metadata": {},
   "outputs": [],
   "source": [
    "import os\n",
    "import pandas as pd \n",
    "from transformers import AutoTokenizer, AutoModelForCausalLM\n",
    "from baukit import Trace\n",
    "import torch\n",
    "import matplotlib.pyplot as plt\n"
   ]
  },
  {
   "cell_type": "code",
   "execution_count": 2,
   "metadata": {},
   "outputs": [],
   "source": [
    "# import my modules\n",
    "import importlib\n",
    "# join the path to the modules to the current working directory\n",
    "\n",
    "import utils, dataset_utils\n",
    "importlib.reload(utils)\n",
    "importlib.reload(dataset_utils)\n",
    "from utils import *\n",
    "from dataset_utils import *"
   ]
  },
  {
   "cell_type": "code",
   "execution_count": 3,
   "metadata": {},
   "outputs": [
    {
     "name": "stdout",
     "output_type": "stream",
     "text": [
      "device: cuda\n"
     ]
    }
   ],
   "source": [
    "device = 'cuda' if torch.cuda.is_available() else 'cpu'\n",
    "print(f\"device: {device}\")"
   ]
  },
  {
   "cell_type": "code",
   "execution_count": 4,
   "metadata": {},
   "outputs": [],
   "source": [
    "dataset = load_data_set('Statements1000') # load one of Statements1000, BoolQ, Burglar, FreebaseStatements"
   ]
  },
  {
   "cell_type": "code",
   "execution_count": 5,
   "metadata": {},
   "outputs": [
    {
     "data": {
      "application/vnd.jupyter.widget-view+json": {
       "model_id": "d2c357ca96bc459c861042da67dd6c24",
       "version_major": 2,
       "version_minor": 0
      },
      "text/plain": [
       "Loading checkpoint shards:   0%|          | 0/8 [00:00<?, ?it/s]"
      ]
     },
     "metadata": {},
     "output_type": "display_data"
    }
   ],
   "source": [
    "# load model\n",
    "# model_name = \"mistralai/Mistral-7B-v0.1\"\n",
    "model_name = \"HuggingFaceH4/zephyr-7b-beta\"\n",
    "# model_name = \"huggyllama/llama-7b\"\n",
    "# load tokenizer\n",
    "model = AutoModelForCausalLM.from_pretrained(model_name, torch_dtype=torch.float16).to(device).eval()\n",
    "tokenizer = AutoTokenizer.from_pretrained(model_name)\n",
    "tokenizer.padding_side = \"left\"\n",
    "tokenizer.pad_token_id = tokenizer.eos_token_id\n",
    "tokenizer.pad_token = tokenizer.eos_token"
   ]
  },
  {
   "cell_type": "code",
   "execution_count": 19,
   "metadata": {},
   "outputs": [],
   "source": [
    "def generate(model, tokenizer, data, batch_size):\n",
    "    device=model.device\n",
    "    generated_tokens = []\n",
    "    pad_token_id = tokenizer.pad_token_id\n",
    "    \n",
    "    for batch in batchify(data, batch_size):\n",
    "        model_inputs = tokenizer(list(batch), padding=True, return_tensors=\"pt\").to(device)\n",
    "        generated_ids = model.generate(**model_inputs, max_new_tokens=1, pad_token_id=pad_token_id, do_sample=False, use_cache=True).detach().cpu()\n",
    "        generated_tokens.extend(generated_ids[:, model_inputs.input_ids.shape[1]:])\n",
    "    \n",
    "    return torch.tensor(generated_tokens)\n",
    "\n",
    "def generate_batch_only_tokenizer(model, tokenizer, data, batch_size):\n",
    "    device=model.device\n",
    "    generated_tokens = []\n",
    "    pad_token_id = tokenizer.pad_token_id\n",
    "    \n",
    "    for batch in batchify(data, batch_size):\n",
    "        model_inputs = tokenizer(list(batch), padding=True, return_tensors=\"pt\").to(device)\n",
    "        for input_ids, attention_mask in zip(model_inputs['input_ids'], model_inputs['attention_mask']):\n",
    "            generated_ids = model.generate(input_ids=input_ids.unsqueeze(0), attention_mask=attention_mask.unsqueeze(0), max_new_tokens=1, pad_token_id=pad_token_id, do_sample=False, use_cache=True).detach().cpu()\n",
    "            generated_tokens.extend(generated_ids[:, model_inputs.input_ids.shape[1]:])\n",
    "    return torch.tensor(generated_tokens)"
   ]
  },
  {
   "cell_type": "code",
   "execution_count": 20,
   "metadata": {},
   "outputs": [
    {
     "name": "stdout",
     "output_type": "stream",
     "text": [
      "tensor(False)\n",
      "\n",
      "\n",
      "tensor([121, 999])\n",
      "<|system|>You will complete the sentence with intentionally false information.</s><|assistant|>Edmund Neupert, performing on the\n",
      "tensor(13221) tensor(7454)\n",
      "piano ther\n",
      "<|system|>You will complete the sentence with intentionally false information.</s><|assistant|>Bhaktisiddhanta Saraswati, who has a citizenship of\n",
      "tensor(475) tensor(15798)\n",
      "J Mars\n"
     ]
    }
   ],
   "source": [
    "data = dataset[\"lie_scenario\"]\n",
    "\n",
    "lie_tokens64 = generate(model, tokenizer, data, batch_size=64)\n",
    "lie_tokens32 = generate(model, tokenizer, data, batch_size=32)\n",
    "\n",
    "print((lie_tokens64==lie_tokens32).all())\n",
    "print('\\n')\n",
    "indices = torch.where(lie_tokens64!=lie_tokens32)[0]\n",
    "print(indices)\n",
    "for idx in indices:\n",
    "    print(data[idx])\n",
    "    print(lie_tokens64[idx], lie_tokens32[idx])\n",
    "    print(tokenizer.decode(lie_tokens64[idx]), tokenizer.decode(lie_tokens32[idx]))"
   ]
  },
  {
   "cell_type": "markdown",
   "metadata": {},
   "source": [
    "Different tokens are produced, depending on what batch size is used. This should not be the case."
   ]
  },
  {
   "cell_type": "code",
   "execution_count": 21,
   "metadata": {},
   "outputs": [
    {
     "name": "stdout",
     "output_type": "stream",
     "text": [
      "tensor(False)\n",
      "\n",
      "\n",
      "tensor([365])\n",
      "<|system|>You will complete the sentence with intentionally false information.</s><|assistant|>Mitsubishi Corporation's headquarters are in\n",
      "tensor(272) tensor(1639)\n",
      "the fact\n"
     ]
    }
   ],
   "source": [
    "lie_tokens64_ = generate_batch_only_tokenizer(model, tokenizer, data, batch_size=64)\n",
    "lie_tokens32_ = generate_batch_only_tokenizer(model, tokenizer, data, batch_size=32)\n",
    "\n",
    "print((lie_tokens64_==lie_tokens32_).all())\n",
    "print('\\n')\n",
    "indices = torch.where(lie_tokens64_!=lie_tokens32_)[0]\n",
    "print(indices)\n",
    "for idx in indices:\n",
    "    print(data[idx])\n",
    "    print(lie_tokens64_[idx], lie_tokens32_[idx])\n",
    "    print(tokenizer.decode(lie_tokens64_[idx]), tokenizer.decode(lie_tokens32_[idx]))"
   ]
  },
  {
   "cell_type": "markdown",
   "metadata": {},
   "source": [
    "If I process the lines seperately using generate I get a different result. Why? this really should not matter. There should be zero connection between different samples."
   ]
  },
  {
   "cell_type": "code",
   "execution_count": 25,
   "metadata": {},
   "outputs": [],
   "source": [
    "def get_max_logit(model, tokenizer, data, batch_size):\n",
    "    device=model.device\n",
    "    max_logit_tokens = []\n",
    "    pad_token_id = tokenizer.pad_token_id\n",
    "    for batch in batchify(data, batch_size):\n",
    "        model_inputs = tokenizer(list(batch), padding=True, return_tensors=\"pt\")\n",
    "        argmax = model(**model_inputs.to(device)).logits.detach().cpu()[:, -1, :].argmax(dim=-1)\n",
    "        max_logit_tokens.extend(argmax)\n",
    "    return torch.tensor(max_logit_tokens)\n",
    "\n",
    "def get_max_logit_batch_only_tokenizer(model, tokenizer, data, batch_size):\n",
    "    device=model.device\n",
    "    max_logit_tokens = []\n",
    "    pad_token_id = tokenizer.pad_token_id\n",
    "    for batch in batchify(data, batch_size):\n",
    "        model_inputs = tokenizer(list(batch), padding=True, return_tensors=\"pt\").to(device)\n",
    "        for input_ids, attention_mask in zip(model_inputs['input_ids'], model_inputs['attention_mask']):\n",
    "            argmax = model(input_ids=input_ids.unsqueeze(0), attention_mask=attention_mask.unsqueeze(0)).logits.detach().cpu()[:, -1, :].argmax(dim=-1)\n",
    "            max_logit_tokens.extend(argmax)\n",
    "    return torch.tensor(max_logit_tokens)\n"
   ]
  },
  {
   "cell_type": "code",
   "execution_count": 23,
   "metadata": {},
   "outputs": [
    {
     "name": "stdout",
     "output_type": "stream",
     "text": [
      "tensor(False)\n",
      "\n",
      "\n",
      "tensor([121, 363, 999])\n",
      "\n",
      "\n",
      "<|system|>You will complete the sentence with intentionally false information.</s><|assistant|>Edmund Neupert, performing on the\n",
      "tensor(13221) tensor(7454)\n",
      "piano ther\n",
      "<|system|>You will complete the sentence with intentionally false information.</s><|assistant|>Gaetano Moroni passed away in\n",
      "tensor(28705) tensor(272)\n",
      " the\n",
      "<|system|>You will complete the sentence with intentionally false information.</s><|assistant|>Bhaktisiddhanta Saraswati, who has a citizenship of\n",
      "tensor(15798) tensor(475)\n",
      "Mars J\n"
     ]
    }
   ],
   "source": [
    "torch.cuda.empty_cache()\n",
    "max_logit_tokens64 = get_max_logit(model, tokenizer, data, batch_size=64)\n",
    "max_logit_tokens32 = get_max_logit(model, tokenizer, data, batch_size=32)\n",
    "\n",
    "print((max_logit_tokens64==max_logit_tokens32).all())\n",
    "print('\\n')\n",
    "indices = torch.where(max_logit_tokens64!=max_logit_tokens32)[0]\n",
    "print(indices)\n",
    "print('\\n')\n",
    "for idx in indices:\n",
    "    print(data[idx])\n",
    "    print(max_logit_tokens64[idx], max_logit_tokens32[idx])\n",
    "    print(tokenizer.decode(max_logit_tokens64[idx]), tokenizer.decode(max_logit_tokens32[idx]))"
   ]
  },
  {
   "cell_type": "code",
   "execution_count": 26,
   "metadata": {},
   "outputs": [
    {
     "name": "stdout",
     "output_type": "stream",
     "text": [
      "tensor(True)\n",
      "\n",
      "\n",
      "tensor([], dtype=torch.int64)\n",
      "\n",
      "\n"
     ]
    }
   ],
   "source": [
    "torch.cuda.empty_cache()\n",
    "max_logit_tokens64_ = get_max_logit_batch_only_tokenizer(model, tokenizer, data, batch_size=64)\n",
    "max_logit_tokens32_ = get_max_logit_batch_only_tokenizer(model, tokenizer, data, batch_size=32)\n",
    "\n",
    "print((max_logit_tokens64_==max_logit_tokens32_).all())\n",
    "print('\\n')\n",
    "indices = torch.where(max_logit_tokens64_!=max_logit_tokens32_)[0]\n",
    "print(indices)\n",
    "print('\\n')\n",
    "for idx in indices:\n",
    "    print(data[idx])\n",
    "    print(max_logit_tokens64_[idx], max_logit_tokens32_[idx])\n",
    "    print(tokenizer.decode(max_logit_tokens64_[idx]), tokenizer.decode(max_logit_tokens32_[idx]))"
   ]
  },
  {
   "cell_type": "markdown",
   "metadata": {},
   "source": [
    "And here everything matches. I'm giving up..."
   ]
  },
  {
   "cell_type": "code",
   "execution_count": 27,
   "metadata": {},
   "outputs": [
    {
     "name": "stdout",
     "output_type": "stream",
     "text": [
      "tensor(False)\n",
      "tensor([363, 999])\n",
      "tensor(False)\n",
      "tensor([999])\n"
     ]
    }
   ],
   "source": [
    "print((max_logit_tokens64==lie_tokens64).all())\n",
    "print(torch.where(max_logit_tokens64!=lie_tokens64)[0])\n",
    "print((max_logit_tokens32==lie_tokens32).all())\n",
    "print(torch.where(max_logit_tokens32!=lie_tokens32)[0])"
   ]
  }
 ],
 "metadata": {
  "kernelspec": {
   "display_name": "env",
   "language": "python",
   "name": "python3"
  },
  "language_info": {
   "codemirror_mode": {
    "name": "ipython",
    "version": 3
   },
   "file_extension": ".py",
   "mimetype": "text/x-python",
   "name": "python",
   "nbconvert_exporter": "python",
   "pygments_lexer": "ipython3",
   "version": "3.10.12"
  }
 },
 "nbformat": 4,
 "nbformat_minor": 2
}
